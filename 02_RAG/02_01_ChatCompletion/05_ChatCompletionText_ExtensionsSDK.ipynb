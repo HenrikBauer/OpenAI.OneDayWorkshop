{
 "cells": [
  {
   "cell_type": "markdown",
   "metadata": {},
   "source": [
    "# 02 RAG | 01 Chat Completion Text | 05 Extensions SDK\n",
    "\n",
    "## Azure Environment\n",
    "\n",
    "To execute the sample code Azure service specific information like endpoint, api key etc. is needed ([Details and instructions can be found here](../01_CreateEnvironment/01_Environment.ipynb))\n",
    "\n",
    "## Step 1: Create ChatClient\n",
    "\n",
    "The `IChatClient` from the Microsoft.Extensions.AI NuGet package offers an abstraction which allows using models from multiple providers."
   ]
  },
  {
   "cell_type": "code",
   "execution_count": 9,
   "metadata": {
    "dotnet_interactive": {
     "language": "csharp"
    },
    "polyglot_notebook": {
     "kernelName": "csharp"
    }
   },
   "outputs": [
    {
     "data": {
      "text/html": [
       "<div><div></div><div></div><div><strong>Installed Packages</strong><ul><li><span>DotNetEnv, 3.1.1</span></li><li><span>Microsoft.Extensions.AI, 9.3.0-preview.1.25161.3</span></li><li><span>Microsoft.Extensions.AI.Abstractions, 9.3.0-preview.1.25161.3</span></li><li><span>Microsoft.Extensions.AI.AzureAIInference, 9.3.0-preview.1.25161.3</span></li></ul></div></div>"
      ]
     },
     "metadata": {},
     "output_type": "display_data"
    },
    {
     "name": "stdout",
     "output_type": "stream",
     "text": [
      "IChatClient created...\r\n"
     ]
    }
   ],
   "source": [
    "#r \"nuget: Microsoft.Extensions.AI, 9.3.0-preview.1.25161.3\"\n",
    "#r \"nuget: Microsoft.Extensions.AI.Abstractions, 9.3.0-preview.1.25161.3\"\n",
    "#r \"nuget: Microsoft.Extensions.AI.AzureAIInference, 9.3.0-preview.1.25161.3\"\n",
    "#r \"nuget: DotNetEnv, 3.1.1\"\n",
    "\n",
    "using Azure;\n",
    "using Azure.AI.Inference;\n",
    "using Microsoft.Extensions.AI;\n",
    "using DotNetEnv;\n",
    "\n",
    "//configuration file is created during environment creation\n",
    "static string configurationFile = @\"../../Configuration/application.env\";\n",
    "Env.Load(configurationFile);\n",
    "\n",
    "string oAiApiKey = Environment.GetEnvironmentVariable(\"WS_AOAI_APIKEY\") ?? \"WS_AOAI_APIKEY not found\";\n",
    "string oAiEndpoint = Environment.GetEnvironmentVariable(\"WS_AOAI_ENDPOINT\") ?? \"WS_AOAI_ENDPOINT not found\";    \n",
    "string chatCompletionDeploymentName = Environment.GetEnvironmentVariable(\"WS_CHATCOMPLETION_DEPLOYMENTNAME\") ?? \"WS_CHATCOMPLETION_DEPLOYMENTNAME not found\";\n",
    "oAiEndpoint = $\"{oAiEndpoint}openai/deployments/{chatCompletionDeploymentName}\";\n",
    "\n",
    "AzureKeyCredential azureKeyCredential = new AzureKeyCredential(oAiApiKey);\n",
    "        \n",
    "IChatClient chatClient =\n",
    "    new ChatCompletionsClient(new Uri(oAiEndpoint), azureKeyCredential)\n",
    "        .AsChatClient(chatCompletionDeploymentName);\n",
    "\n",
    "Console.WriteLine($\"IChatClient created...\");\n"
   ]
  },
  {
   "cell_type": "markdown",
   "metadata": {},
   "source": [
    "## Step 1: Basic Interaction\n",
    "\n",
    "The following cell, demonstrate a basic interaction using the `chatClient` object. In this case, the system message is used to provide instructions or settings for the assistant, such as its personality or behavior.\n",
    "\n",
    "Prompt: `\n",
    "    \"You are an AI assistance who helps finding information around international sport events\"\n",
    "    \"Who won the Super Bowl 2024?\"\n",
    "\n",
    "Because the GPT-4o model is trained with data up to October 2023 the model will answer with some information that the Super Bowl 2024 hasn't yet taken place."
   ]
  },
  {
   "cell_type": "code",
   "execution_count": 24,
   "metadata": {
    "polyglot_notebook": {
     "kernelName": "csharp"
    }
   },
   "outputs": [
    {
     "name": "stdout",
     "output_type": "stream",
     "text": [
      "Model response: \n",
      " I’m sorry, but I don’t have information on the Super Bowl 2024 since my training data includes information only up until October 2023. You might want to check the latest news sources or sports websites for the most current information on the Super Bowl.\r\n"
     ]
    }
   ],
   "source": [
    "string prompt = @\"\n",
    "    You are an AI assistance who helps finding information around international sport events\n",
    "    Who won the Super Bowl 2024?\"\n",
    ";\n",
    "        \n",
    "ChatResponse chatResponse = await chatClient.GetResponseAsync(prompt);\n",
    "\n",
    "Console.WriteLine($\"Model response: \\n {chatResponse.Text}\"); "
   ]
  },
  {
   "cell_type": "markdown",
   "metadata": {},
   "source": [
    "## Step 2: Complex interaction - Chat History\n",
    "\n",
    "### Prepare chat history\n",
    "\n",
    "The system prompt is grounded with information regarding the winner and the score of the super bowl 2024\n",
    "\n",
    "A simulated chat history is provided using a `List<ChatMessage>` with the following information. \n",
    "\n",
    "```html\n",
    "    - Who won the Super Bowl in 2024?\n",
    "    - Provide just the winning team and the score\n",
    "    - Don't return other information\n",
    "    \n",
    "```\n",
    "\n"
   ]
  },
  {
   "cell_type": "code",
   "execution_count": 20,
   "metadata": {
    "dotnet_interactive": {
     "language": "csharp"
    },
    "polyglot_notebook": {
     "kernelName": "csharp"
    }
   },
   "outputs": [
    {
     "name": "stdout",
     "output_type": "stream",
     "text": [
      "Chat messages created...\r\n"
     ]
    }
   ],
   "source": [
    "string systemMessage = @\"\n",
    "    You are an AI assistance who helps finding information around international sport events.\n",
    "    To answer questions you just take information provided to you!\n",
    "    You don't use your training data.\n",
    "    The Kansas City Chiefs won the Super Bowl 2024.\n",
    "    The match ended with a score of 38-35.\n",
    "\";\n",
    "\n",
    "string[] userMessages = new string[] { \n",
    "    \"Who won the Super Bowl 2024?\",\n",
    "    \"Provide just the winning team and the score.\",\n",
    "    \"Don't return other information.\" \n",
    "};\n",
    "\n",
    "List<ChatMessage> chatMessages = new List<ChatMessage>\n",
    "{\n",
    "    new ChatMessage(Microsoft.Extensions.AI.ChatRole.System, systemMessage),\n",
    "    new ChatMessage(Microsoft.Extensions.AI.ChatRole.User, userMessages[0]),\n",
    "    new ChatMessage(Microsoft.Extensions.AI.ChatRole.User, userMessages[1]),\n",
    "};\n",
    "\n",
    "Console.WriteLine($\"Chat messages created...\");"
   ]
  },
  {
   "cell_type": "markdown",
   "metadata": {},
   "source": [
    "### Model call\n",
    "\n",
    "The chat history is provided to the model for completion"
   ]
  },
  {
   "cell_type": "code",
   "execution_count": 21,
   "metadata": {
    "dotnet_interactive": {
     "language": "csharp"
    },
    "polyglot_notebook": {
     "kernelName": "csharp"
    }
   },
   "outputs": [
    {
     "name": "stdout",
     "output_type": "stream",
     "text": [
      "Model response: \n",
      " Kansas City Chiefs, 38-35.\r\n"
     ]
    }
   ],
   "source": [
    "  \n",
    "ChatResponse chatResponse = await chatClient.GetResponseAsync(chatMessages);\n",
    "\n",
    "Console.WriteLine($\"Model response: \\n {chatResponse.Text}\"); \n"
   ]
  },
  {
   "cell_type": "markdown",
   "metadata": {},
   "source": [
    "## Step 3: Streaming response\n",
    "\n",
    "`GetStreamingResponseAsync()` provides results as stream as soon as they are provided by the model."
   ]
  },
  {
   "cell_type": "code",
   "execution_count": 23,
   "metadata": {
    "dotnet_interactive": {
     "language": "csharp"
    },
    "polyglot_notebook": {
     "kernelName": "csharp"
    }
   },
   "outputs": [
    {
     "name": "stdout",
     "output_type": "stream",
     "text": [
      "Model response streaming:\n",
      "Kansas City Chiefs, 38-35."
     ]
    }
   ],
   "source": [
    "Console.WriteLine($\"Model response streaming:\");\n",
    "await foreach (ChatResponseUpdate chatResponseUpdate in chatClient.GetStreamingResponseAsync(chatMessages))\n",
    "{\n",
    "    Console.Write(chatResponseUpdate.Text);\n",
    "}"
   ]
  }
 ],
 "metadata": {
  "kernelspec": {
   "display_name": ".NET (C#)",
   "language": "C#",
   "name": ".net-csharp"
  },
  "language_info": {
   "name": "polyglot-notebook"
  },
  "polyglot_notebook": {
   "kernelInfo": {
    "defaultKernelName": "csharp",
    "items": [
     {
      "aliases": [],
      "languageName": "csharp",
      "name": "csharp"
     }
    ]
   }
  }
 },
 "nbformat": 4,
 "nbformat_minor": 2
}
