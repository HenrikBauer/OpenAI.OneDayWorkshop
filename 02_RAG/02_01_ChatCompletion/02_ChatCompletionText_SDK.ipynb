{
 "cells": [
  {
   "cell_type": "markdown",
   "metadata": {},
   "source": [
    "# 02 RAG | 01 Chat Completion Text | 02 SDK\n",
    "\n",
    "## Azure Environment\n",
    "\n",
    "To execute the sample code Azure service specific information like endpoint, api key etc. is needed ([Details and instructions can be found here](../01_CreateEnvironment/01_Environment.ipynb))\n",
    "\n",
    "## Step 1: Create OpenAIClient / ChatClient\n",
    "\n",
    "The `AzureOpenAIClient` from the Azure.AI.OpenAI NuGet package offers a unified interface to create various specialized clients, each designed to handle specific tasks.\n",
    "In this notebook the `ChatClient` is used.\n",
    "\n"
   ]
  },
  {
   "cell_type": "code",
   "execution_count": 1,
   "metadata": {
    "dotnet_interactive": {
     "language": "csharp"
    },
    "polyglot_notebook": {
     "kernelName": "csharp"
    }
   },
   "outputs": [
    {
     "data": {
      "text/html": [
       "<div><div></div><div></div><div><strong>Installed Packages</strong><ul><li><span>Azure.AI.OpenAI, 2.2.0-beta.2</span></li><li><span>DotNetEnv, 3.1.1</span></li></ul></div></div>"
      ]
     },
     "metadata": {},
     "output_type": "display_data"
    },
    {
     "name": "stdout",
     "output_type": "stream",
     "text": [
      "AzureOpenAI Client created...\n",
      "ChatClient created...\n"
     ]
    }
   ],
   "source": [
    "#r \"nuget: Azure.AI.OpenAI, 2.2.0-beta.2\"\n",
    "#r \"nuget: DotNetEnv, 3.1.1\"\n",
    "\n",
    "using Azure; \n",
    "using Azure.AI.OpenAI;\n",
    "using OpenAI.Chat;\n",
    "using DotNetEnv;\n",
    "using System.IO;\n",
    "using System.Text.Json; \n",
    "using System.ClientModel;\n",
    "\n",
    "//configuration file is created during environment creation\n",
    "static string configurationFile = @\"../../Configuration/application.env\";\n",
    "Env.Load(configurationFile);\n",
    "\n",
    "string oAiApiKey = Environment.GetEnvironmentVariable(\"WS_AOAI_APIKEY\") ?? \"WS_AOAI_APIKEY not found\";\n",
    "string oAiEndpoint = Environment.GetEnvironmentVariable(\"WS_AOAI_ENDPOINT\") ?? \"WS_AOAI_ENDPOINT not found\";\n",
    "string chatCompletionDeploymentName = Environment.GetEnvironmentVariable(\"WS_CHATCOMPLETION_DEPLOYMENTNAME\") ?? \"WS_CHATCOMPLETION_DEPLOYMENTNAME not found\";\n",
    "\n",
    "ApiKeyCredential apiKeyCredential = new ApiKeyCredential(oAiApiKey);\n",
    "AzureOpenAIClient azureOpenAIClient = new AzureOpenAIClient(new Uri(oAiEndpoint), apiKeyCredential);\n",
    "ChatClient chatClient = azureOpenAIClient.GetChatClient(chatCompletionDeploymentName);\n",
    "\n",
    "Console.WriteLine($\"AzureOpenAI Client created...\");\n",
    "Console.WriteLine($\"ChatClient created...\");"
   ]
  },
  {
   "cell_type": "markdown",
   "metadata": {},
   "source": [
    "## Step 1: Basic Interaction\n",
    "\n",
    "The following cell, demonstrate a basic interaction using the `chatClient` object. In this case, the system message is used to provide instructions or settings for the assistant, such as its personality or behavior.\n",
    "\n",
    "The `ChatCompletionsOptions` object gives more fine granular control how the model should process the provided prompt.\n",
    "\n",
    "System prompt: `\"You are an AI assistance who helps finding information around international sport events\"`\n",
    "\n",
    "Prompt: `\"Who won the super bowl 2024?\"`\n",
    "\n",
    "Because the GPT-4o model is trained with data up to October 2023 the model will answer with some information that the Super Bowl 2024 hasn't yet taken place."
   ]
  },
  {
   "cell_type": "code",
   "execution_count": 2,
   "metadata": {
    "dotnet_interactive": {
     "language": "csharp"
    },
    "polyglot_notebook": {
     "kernelName": "csharp"
    }
   },
   "outputs": [
    {
     "name": "stdout",
     "output_type": "stream",
     "text": [
      "Model response: \n",
      " As of my last update in October 2023, the Super Bowl for the year 2024 has not yet occurred. The event is typically held in February, so you'll need to check a reliable sports news source or the NFL's official website closer to that time for the most current information on the winner.\r\n"
     ]
    }
   ],
   "source": [
    "string systemMessage = \"You are an AI assistance who helps finding information around international sport events\";\n",
    "string userMessage = \"Who won the super bowl 2024?\";\n",
    "\n",
    "ChatCompletionOptions chatCompletionOptions = new ChatCompletionOptions(){\n",
    "    Temperature = 0.0f,\n",
    "    TopP = 1.0f,\n",
    "    FrequencyPenalty = 0.7f,\n",
    "    PresencePenalty = 0.7f,\n",
    "};\n",
    "chatCompletionOptions.StopSequences.Add(\"\\n\");\n",
    "\n",
    "ChatCompletion chatCompletion = await chatClient.CompleteChatAsync(\n",
    "    messages: [\n",
    "        new SystemChatMessage(systemMessage),\n",
    "        new UserChatMessage(userMessage)\n",
    "    ], \n",
    "    options: chatCompletionOptions\n",
    ");\n",
    "\n",
    "Console.WriteLine($\"Model response: \\n {chatCompletion.Content[0].Text}\"); \n"
   ]
  },
  {
   "cell_type": "markdown",
   "metadata": {},
   "source": [
    "## Step 2: Complex interaction - Chat History\n",
    "\n",
    "### Prepare chat history\n",
    "\n",
    "Chat history is prepared with additional grounding information, information who won the Super Bowl in 2024 is added.\n",
    "\n",
    "Chat History: \n",
    "\n",
    "```html\n",
    "    - Who won the Super Bowl in 2024?\n",
    "    - The Kansas City Chiefs won the Super Bowl in 2024!\n",
    "    \n",
    "```\n",
    "\n"
   ]
  },
  {
   "cell_type": "code",
   "execution_count": 3,
   "metadata": {
    "dotnet_interactive": {
     "language": "csharp"
    },
    "polyglot_notebook": {
     "kernelName": "csharp"
    }
   },
   "outputs": [
    {
     "name": "stdout",
     "output_type": "stream",
     "text": [
      "Chat messages created ...\r\n"
     ]
    }
   ],
   "source": [
    "string systemMessage = @\"\n",
    "    You are an AI assistance who helps finding information around international sport events.\n",
    "    To answer questions you just take information provided to you!\n",
    "    You don't use your training data.\n",
    "\n",
    "    The Kansas City Chiefs won the Super Bowl 2024!\n",
    "\";\n",
    "string prompt = \"Who won the super bowl 2024?\";\n",
    "\n",
    "List<ChatMessage> chatMessages = new List<ChatMessage>();\n",
    "chatMessages.Add(new SystemChatMessage(systemMessage));\n",
    "chatMessages.Add(new UserChatMessage(prompt));\n",
    "\n",
    "Console.WriteLine($\"Chat messages created ...\");\n"
   ]
  },
  {
   "cell_type": "markdown",
   "metadata": {},
   "source": [
    "### Model call\n",
    "\n",
    "The chat history is provided to the model for completion"
   ]
  },
  {
   "cell_type": "code",
   "execution_count": 4,
   "metadata": {
    "dotnet_interactive": {
     "language": "csharp"
    },
    "polyglot_notebook": {
     "kernelName": "csharp"
    }
   },
   "outputs": [
    {
     "name": "stdout",
     "output_type": "stream",
     "text": [
      "Model response: \n",
      " The Kansas City Chiefs won the Super Bowl 2024!\r\n"
     ]
    }
   ],
   "source": [
    "ChatCompletionOptions chatCompletionOptions = new ChatCompletionOptions(){\n",
    "    Temperature = 0.0f,\n",
    "    TopP = 1.0f,\n",
    "    FrequencyPenalty = 0.7f,\n",
    "    PresencePenalty = 0.7f,\n",
    "};\n",
    "chatCompletionOptions.StopSequences.Add(\"\\n\");\n",
    "\n",
    "ChatCompletion chatCompletion = await chatClient.CompleteChatAsync(\n",
    "    messages: chatMessages, \n",
    "    options: chatCompletionOptions\n",
    ");\n",
    "\n",
    "foreach (ChatMessageContentPart chatMessageContentPart in chatCompletion.Content){\n",
    "    Console.WriteLine($\"Model response: \\n {chatMessageContentPart.Text}\"); \n",
    "}"
   ]
  },
  {
   "cell_type": "markdown",
   "metadata": {},
   "source": [
    "## Step 3: Check additional response values\n",
    "\n",
    "### Token Usage\n",
    "\n",
    "Provide tokens consumed by the `GetChatCompletionsAsync()` call."
   ]
  },
  {
   "cell_type": "code",
   "execution_count": 5,
   "metadata": {
    "dotnet_interactive": {
     "language": "csharp"
    },
    "polyglot_notebook": {
     "kernelName": "csharp"
    }
   },
   "outputs": [
    {
     "name": "stdout",
     "output_type": "stream",
     "text": [
      "Input Tokens: 69\n",
      "Output Tokens: 13\n",
      "Total Tokens:  82\n"
     ]
    }
   ],
   "source": [
    "Console.WriteLine($\"Input Tokens: {chatCompletion.Usage.InputTokenCount}\");\n",
    "Console.WriteLine($\"Output Tokens: {chatCompletion.Usage.OutputTokenCount}\");\n",
    "Console.WriteLine($\"Total Tokens:  {chatCompletion.Usage.TotalTokenCount}\");"
   ]
  },
  {
   "cell_type": "markdown",
   "metadata": {},
   "source": [
    "## Step 4: Streaming Response\n",
    "\n",
    "`CompleteChatStreamingAsync()` provides results as stream as soon as they are provided by the model.."
   ]
  },
  {
   "cell_type": "code",
   "execution_count": 8,
   "metadata": {
    "polyglot_notebook": {
     "kernelName": "csharp"
    }
   },
   "outputs": [
    {
     "name": "stdout",
     "output_type": "stream",
     "text": [
      "Model response: \n",
      "The Kansas City Chiefs won the Super Bowl 2024!"
     ]
    }
   ],
   "source": [
    "ChatCompletionOptions chatCompletionOptions = new ChatCompletionOptions(){\n",
    "    Temperature = 0.0f,\n",
    "    TopP = 1.0f,\n",
    "    FrequencyPenalty = 0.7f,\n",
    "    PresencePenalty = 0.7f,\n",
    "};\n",
    "chatCompletionOptions.StopSequences.Add(\"\\n\");\n",
    "\n",
    "Console.WriteLine(\"Model response: \");\n",
    "await foreach (var chatMessageContentPart in chatClient.CompleteChatStreamingAsync(\n",
    "    messages: chatMessages, \n",
    "    options: chatCompletionOptions))\n",
    "{\n",
    "    ChatMessageContentPart? contentUpdate = chatMessageContentPart.ContentUpdate.FirstOrDefault();\n",
    "    Console.Write($\"{contentUpdate?.Text}\"); \n",
    "}\n"
   ]
  }
 ],
 "metadata": {
  "kernelspec": {
   "display_name": ".NET (C#)",
   "language": "C#",
   "name": ".net-csharp"
  },
  "language_info": {
   "name": "polyglot-notebook"
  },
  "polyglot_notebook": {
   "kernelInfo": {
    "defaultKernelName": "csharp",
    "items": [
     {
      "aliases": [],
      "languageName": "csharp",
      "name": "csharp"
     }
    ]
   }
  }
 },
 "nbformat": 4,
 "nbformat_minor": 2
}
