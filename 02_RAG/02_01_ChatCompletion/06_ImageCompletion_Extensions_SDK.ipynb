{
 "cells": [
  {
   "cell_type": "markdown",
   "metadata": {},
   "source": [
    "# 02 RAG | 01 Chat Completion | 06 Chat Completion Image\n",
    "\n",
    "## Azure Environment\n",
    "\n",
    "To execute the sample code Azure service specific information like endpoint, api key etc. is needed ([Details and instructions can be found here](../01_CreateEnvironment/01_Environment.ipynb))\n",
    "\n",
    "## Step 1: Create ChatClient\n",
    "\n",
    "The `IChatClient` from the Microsoft.Extensions.AI NuGet package offers an abstraction which allows using models from multiple providers.\n",
    "\n",
    "The multi modal capabilities of the GPT-4o LLM deployment are shown by providing the following photo realistic image together with the user message 'In which style is the provided image? Is it Cartoon or Photorealistic?' the LLM:\n",
    "\n",
    "![PhotoRealisticImage](../../Assets/Image/SuperBowl_Photorealistic.png)\n",
    "\n",
    "The image was created using the [04_CreateImageCompletion notebook](./04_CreateImageCompletion.ipynb) and an instance of dall-e-3. \n"
   ]
  },
  {
   "cell_type": "code",
   "execution_count": 1,
   "metadata": {
    "dotnet_interactive": {
     "language": "csharp"
    },
    "polyglot_notebook": {
     "kernelName": "csharp"
    }
   },
   "outputs": [
    {
     "data": {
      "text/html": [
       "<div><div></div><div></div><div><strong>Installed Packages</strong><ul><li><span>DotNetEnv, 3.1.1</span></li><li><span>Microsoft.Extensions.AI, 9.3.0-preview.1.25161.3</span></li><li><span>Microsoft.Extensions.AI.Abstractions, 9.3.0-preview.1.25161.3</span></li><li><span>Microsoft.Extensions.AI.AzureAIInference, 9.3.0-preview.1.25161.3</span></li></ul></div></div>"
      ]
     },
     "metadata": {},
     "output_type": "display_data"
    },
    {
     "name": "stdout",
     "output_type": "stream",
     "text": [
      "IChatClient created...\r\n"
     ]
    }
   ],
   "source": [
    "#r \"nuget: Microsoft.Extensions.AI, 9.3.0-preview.1.25161.3\"\n",
    "#r \"nuget: Microsoft.Extensions.AI.Abstractions, 9.3.0-preview.1.25161.3\"\n",
    "#r \"nuget: Microsoft.Extensions.AI.AzureAIInference, 9.3.0-preview.1.25161.3\"\n",
    "#r \"nuget: DotNetEnv, 3.1.1\"\n",
    "\n",
    "using Azure;\n",
    "using Azure.AI.Inference;\n",
    "using Microsoft.Extensions.AI;\n",
    "using DotNetEnv;\n",
    "\n",
    "//configuration file is created during environment creation\n",
    "static string configurationFile = @\"../../Configuration/application.env\";\n",
    "Env.Load(configurationFile);\n",
    "\n",
    "string oAiApiKey = Environment.GetEnvironmentVariable(\"WS_AOAI_APIKEY\") ?? \"WS_AOAI_APIKEY not found\";\n",
    "string oAiEndpoint = Environment.GetEnvironmentVariable(\"WS_AOAI_ENDPOINT\") ?? \"WS_AOAI_ENDPOINT not found\";    \n",
    "string chatCompletionDeploymentName = Environment.GetEnvironmentVariable(\"WS_CHATCOMPLETION_DEPLOYMENTNAME\") ?? \"WS_CHATCOMPLETION_DEPLOYMENTNAME not found\";\n",
    "oAiEndpoint = $\"{oAiEndpoint}openai/deployments/{chatCompletionDeploymentName}\";\n",
    "\n",
    "AzureKeyCredential azureKeyCredential = new AzureKeyCredential(oAiApiKey);\n",
    "        \n",
    "IChatClient chatClient =\n",
    "    new ChatCompletionsClient(new Uri(oAiEndpoint), azureKeyCredential)\n",
    "        .AsChatClient(chatCompletionDeploymentName);\n",
    "\n",
    "Console.WriteLine($\"IChatClient created...\");"
   ]
  },
  {
   "cell_type": "markdown",
   "metadata": {},
   "source": [
    "## Step 1: Create Chat Messages\n",
    "\n",
    "The following cell, demonstrate a basic interaction using the `chatClient` object. In this case, the system message is used to provide instructions or settings for the assistant. It instructs the model to *'Describe the style of images!'*.\n",
    "\n",
    "The system message is converted into a `ChatMessage` and added to a `List<ChatMessage>` which will finally provided to the model.\n",
    "\n",
    "The image file content is retrieved as `byte[]` array and added as `DataContent` to a `List<AIContent>` list. The user message to detect the style of the imagge is provided as `TextContent`to the `List<AIContent>`. Both input data is added to the `List<ChatMessages>` which already contains the system message. "
   ]
  },
  {
   "cell_type": "code",
   "execution_count": 6,
   "metadata": {
    "dotnet_interactive": {
     "language": "csharp"
    },
    "polyglot_notebook": {
     "kernelName": "csharp"
    }
   },
   "outputs": [
    {
     "name": "stdout",
     "output_type": "stream",
     "text": [
      "ChatMessages created...\r\n"
     ]
    }
   ],
   "source": [
    "using System.IO;\n",
    "\n",
    "string systemMessageRaw = \"You describe the style of images!\";\n",
    "string userMessageRaw = \"In which style is the provided image? Is it Cartoon or Photorealistic?\";\n",
    "string imageFileName = \"../../Assets/Image/SuperBowl_Photorealistic.png\"; \n",
    "\n",
    "List<ChatMessage> chatMessages = new List<ChatMessage>\n",
    "{\n",
    "    new ChatMessage(Microsoft.Extensions.AI.ChatRole.System, systemMessageRaw)\n",
    "};\n",
    "\n",
    "TextContent systemMessage = new TextContent(systemMessageRaw);\n",
    "TextContent userMessage = new TextContent(userMessageRaw);\n",
    "\n",
    "byte[] imageBytes = File.ReadAllBytes(imageFileName);\n",
    "DataContent imageContent = new DataContent(imageBytes, \"image/jpeg\");\n",
    "\n",
    "List<AIContent> aiContents = new List<AIContent>{\n",
    "    userMessage,\n",
    "    imageContent\n",
    "};\n",
    "chatMessages.Add(new ChatMessage(Microsoft.Extensions.AI.ChatRole.User, aiContents));\n",
    "\n",
    "Console.WriteLine($\"ChatMessages created...\");"
   ]
  },
  {
   "cell_type": "markdown",
   "metadata": {},
   "source": [
    "## Step 2: Call Model\n",
    "\n",
    "The method `GetResponseAsync()`of the `ChatClient` object can be used to provide the data to the model and retrieve the model response. "
   ]
  },
  {
   "cell_type": "code",
   "execution_count": 7,
   "metadata": {
    "dotnet_interactive": {
     "language": "csharp"
    },
    "polyglot_notebook": {
     "kernelName": "csharp"
    }
   },
   "outputs": [
    {
     "name": "stdout",
     "output_type": "stream",
     "text": [
      "Model response: The image is in a photorealistic style.\r\n"
     ]
    }
   ],
   "source": [
    "ChatResponse chatResponse = await chatClient.GetResponseAsync(chatMessages);\n",
    "\n",
    "Console.WriteLine($\"Model response: {chatResponse.Text}\");\n"
   ]
  }
 ],
 "metadata": {
  "kernelspec": {
   "display_name": ".NET (C#)",
   "language": "C#",
   "name": ".net-csharp"
  },
  "language_info": {
   "name": "polyglot-notebook"
  },
  "polyglot_notebook": {
   "kernelInfo": {
    "defaultKernelName": "csharp",
    "items": [
     {
      "aliases": [],
      "languageName": "csharp",
      "name": "csharp"
     }
    ]
   }
  }
 },
 "nbformat": 4,
 "nbformat_minor": 2
}
