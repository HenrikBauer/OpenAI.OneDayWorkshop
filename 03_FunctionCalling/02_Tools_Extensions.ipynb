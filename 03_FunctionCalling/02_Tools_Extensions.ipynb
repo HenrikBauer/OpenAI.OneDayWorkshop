{
 "cells": [
  {
   "cell_type": "markdown",
   "metadata": {},
   "source": [
    "# 03 Function Calling | 02 Tools Extensions\n",
    "\n",
    "\n",
    "## Azure Environment\n",
    "\n",
    "To execute the sample code Azure service specific information like endpoint, api key etc. is needed ([Details and instructions can be found here](../01_CreateEnvironment/01_Environment.ipynb))\n",
    "\n",
    "## Step 1: Create ChatClient\n",
    "\n",
    "The `IChatClient` from the Microsoft.Extensions.AI NuGet package offers an abstraction which allows using models from multiple providers.\n",
    "\n",
    "The `IChatClient` instance is created using the `ChatClientBuilder`. `UseFunctionInvocation()` from the ` Microsoft.Extensions.AI` nuget package ensures that tools (funcion calling) is enabled and supported.\n",
    "\n",
    "```\n",
    "IChatClient chatClient =\n",
    "    new ChatClientBuilder(openAIChatClient.AsChatClient())\n",
    "        .UseFunctionInvocation()\n",
    "        .Build();\n",
    "```\n",
    "\n",
    "\n"
   ]
  },
  {
   "cell_type": "code",
   "execution_count": 15,
   "metadata": {
    "dotnet_interactive": {
     "language": "csharp"
    },
    "polyglot_notebook": {
     "kernelName": "csharp"
    }
   },
   "outputs": [
    {
     "data": {
      "text/html": [
       "<div><div></div><div></div><div><strong>Installed Packages</strong><ul><li><span>Azure.AI.OpenAI, 2.2.0-beta.2</span></li><li><span>DotNetEnv, 3.1.1</span></li><li><span>Microsoft.Extensions.AI, 9.3.0-preview.1.25161.3</span></li><li><span>Microsoft.Extensions.AI.Abstractions, 9.3.0-preview.1.25161.3</span></li><li><span>Microsoft.Extensions.AI.AzureAIInference, 9.3.0-preview.1.25161.3</span></li><li><span>Microsoft.Extensions.AI.OpenAI, 9.3.0-preview.1.25161.3</span></li></ul></div></div>"
      ]
     },
     "metadata": {},
     "output_type": "display_data"
    },
    {
     "name": "stdout",
     "output_type": "stream",
     "text": [
      "IChatClient created...\r\n"
     ]
    }
   ],
   "source": [
    "#r \"nuget: Microsoft.Extensions.AI, 9.3.0-preview.1.25161.3\"\n",
    "#r \"nuget: Microsoft.Extensions.AI.Abstractions, 9.3.0-preview.1.25161.3\"\n",
    "#r \"nuget: Microsoft.Extensions.AI.AzureAIInference, 9.3.0-preview.1.25161.3\"\n",
    "#r \"nuget: Microsoft.Extensions.AI.OpenAI, 9.3.0-preview.1.25161.3\"\n",
    "#r \"nuget: Azure.AI.OpenAI, 2.2.0-beta.2\"\n",
    "#r \"nuget: DotNetEnv, 3.1.1\"\n",
    "\n",
    "using Azure;\n",
    "using Microsoft.Extensions.AI;\n",
    "using Azure.AI.OpenAI;\n",
    "using OpenAI;\n",
    "using OpenAI.Chat;\n",
    "using DotNetEnv;\n",
    "\n",
    "//configuration file is created during environment creation\n",
    "static string configurationFile = @\"../Configuration/application.env\";\n",
    "Env.Load(configurationFile);\n",
    "\n",
    "string oAiApiKey = Environment.GetEnvironmentVariable(\"WS_AOAI_APIKEY\") ?? \"WS_AOAI_APIKEY not found\";\n",
    "string oAiEndpoint = Environment.GetEnvironmentVariable(\"WS_AOAI_ENDPOINT\") ?? \"WS_AOAI_ENDPOINT not found\";    \n",
    "string chatCompletionDeploymentName = Environment.GetEnvironmentVariable(\"WS_CHATCOMPLETION_DEPLOYMENTNAME\") ?? \"WS_CHATCOMPLETION_DEPLOYMENTNAME not found\";\n",
    "\n",
    "AzureKeyCredential azureKeyCredential = new AzureKeyCredential(oAiApiKey);\n",
    "\n",
    "OpenAIClient openAIClient = new AzureOpenAIClient(new Uri(oAiEndpoint), azureKeyCredential);\n",
    "ChatClient openAIChatClient = openAIClient.GetChatClient(chatCompletionDeploymentName); \n",
    "\n",
    "IChatClient chatClient =\n",
    "    new ChatClientBuilder(openAIChatClient.AsChatClient())\n",
    "        .UseFunctionInvocation()\n",
    "        .Build();\n",
    "\n",
    "Console.WriteLine($\"IChatClient created...\");\n"
   ]
  },
  {
   "cell_type": "markdown",
   "metadata": {},
   "source": [
    "# Step 2: Define Tools\n",
    "\n",
    "Two native functions: \n",
    "\n",
    "- `GetSportEventWinner()`\n",
    "- `GetSportEventResult()`\n",
    "  \n",
    "are defined. The native functions are provided to the model as source for additional grounding information."
   ]
  },
  {
   "cell_type": "code",
   "execution_count": 16,
   "metadata": {
    "dotnet_interactive": {
     "language": "csharp"
    },
    "polyglot_notebook": {
     "kernelName": "csharp"
    }
   },
   "outputs": [
    {
     "name": "stdout",
     "output_type": "stream",
     "text": [
      "Functions 'GetSportEventResult' and 'GetSportEventResult' defined...\r\n"
     ]
    }
   ],
   "source": [
    "private string GetSportEventWinner(string sportEvent, string year)\n",
    "{\n",
    "    // Implement the logic to get the winner of the sport event.\n",
    "    return \"Kansas City Chiefs\";\n",
    "}\n",
    "\n",
    "private string GetSportEventResult(string sportEvent, string year)\n",
    "{\n",
    "    // Implement the logic to get the result of the sport event.\n",
    "    return \"24:1\";\n",
    "}\n",
    "\n",
    "\n",
    "Console.WriteLine($\"Functions 'GetSportEventResult' and 'GetSportEventResult' defined...\");"
   ]
  },
  {
   "cell_type": "markdown",
   "metadata": {},
   "source": [
    "## Step 3: Define ChatOptions\n",
    "\n",
    "The `AIFunctionFactory` creates the necessary description for the model to decide if function calling supports completing the provided prompt. "
   ]
  },
  {
   "cell_type": "code",
   "execution_count": 17,
   "metadata": {
    "dotnet_interactive": {
     "language": "csharp"
    },
    "polyglot_notebook": {
     "kernelName": "csharp"
    }
   },
   "outputs": [
    {
     "name": "stdout",
     "output_type": "stream",
     "text": [
      "ChatOptions created...\r\n"
     ]
    }
   ],
   "source": [
    "ChatOptions chatOptions = new() { \n",
    "    Tools = [\n",
    "        AIFunctionFactory.Create(GetSportEventWinner),\n",
    "        AIFunctionFactory.Create(GetSportEventResult)\n",
    "    ] \n",
    "};\n",
    "\n",
    "Console.WriteLine(\"ChatOptions created...\");"
   ]
  },
  {
   "cell_type": "markdown",
   "metadata": {},
   "source": [
    "## Step 4: Call Chat Completion\n",
    "\n",
    "The chat completion endpoint of the deployed LLM is called with the previously defined `ChatOptions` which include the function or tool description.\n",
    "\n",
    "The response from the LLM is checked ***automatically*** and local functions are called if requested by the LLM.\n",
    "\n",
    "If no function or tool call is requested or after requested function or tool calls have been executed and the results have been provided to the model the result will be provided."
   ]
  },
  {
   "cell_type": "code",
   "execution_count": 18,
   "metadata": {
    "dotnet_interactive": {
     "language": "csharp"
    },
    "polyglot_notebook": {
     "kernelName": "csharp"
    }
   },
   "outputs": [
    {
     "name": "stdout",
     "output_type": "stream",
     "text": [
      "Model response: The Kansas City Chiefs won the Super Bowl in 2024, with a score of 24:1.\r\n"
     ]
    }
   ],
   "source": [
    "string prompt = \"Who won the Super Bowl in 2024? Provide winning team and result.\";\n",
    "\n",
    "ChatResponse chatResponse = await chatClient.GetResponseAsync(prompt, chatOptions);\n",
    "\n",
    "Console.WriteLine($\"Model response: {chatResponse.Text}\");"
   ]
  }
 ],
 "metadata": {
  "kernelspec": {
   "display_name": ".NET (C#)",
   "language": "C#",
   "name": ".net-csharp"
  },
  "language_info": {
   "name": "polyglot-notebook"
  },
  "polyglot_notebook": {
   "kernelInfo": {
    "defaultKernelName": "csharp",
    "items": [
     {
      "aliases": [],
      "languageName": "csharp",
      "name": "csharp"
     }
    ]
   }
  }
 },
 "nbformat": 4,
 "nbformat_minor": 2
}
