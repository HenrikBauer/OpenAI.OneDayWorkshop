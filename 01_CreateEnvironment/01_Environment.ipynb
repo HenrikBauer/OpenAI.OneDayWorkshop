{
 "cells": [
  {
   "cell_type": "markdown",
   "metadata": {},
   "source": [
    "# 01 Demo Environment | 01 Create Azure Environment\n",
    "\n",
    "This notebook contains the script to create the necessary Azure environment to run the provided samples. The notebook uses [PowerShell](https://learn.microsoft.com/powershell/scripting/install/installing-powershell?view=powershell-7.4) and [Azure CLI](https://learn.microsoft.com/cli/azure/install-azure-cli) to deploy all necessary Azure resources. Both tools are available on Windows, macOS and Linux environments.\n",
    "\n",
    "This notebook performs two tasks:\n",
    "\n",
    "- Deployment of necessary Azure Services (Azure OpenAI, Azure AI Search ...) to run the provided samples\n",
    "- Store all necessary service endpoints, service API keys, Azure OpenAI deployment names in a **centralized env file** (./Configuration/application.env). This file is used by all notebooks in this repo to connect and authenticate against the deployed Azure services.\n",
    "\n",
    "If you already have instances of Azure OpenAI, Azure AI Search running you can rename the [configuration template](../conf/application.env.example) to `application.env` and provide endpoint, API key and deployment names of a chat completion and an embedding model and the other needed services. We suggest to run the notebook to start a clean environment."
   ]
  },
  {
   "cell_type": "markdown",
   "metadata": {},
   "source": [
    "## Step 1:   Login to Azure; Get, Set subscription"
   ]
  },
  {
   "cell_type": "code",
   "execution_count": 1,
   "metadata": {
    "dotnet_interactive": {
     "language": "pwsh"
    },
    "polyglot_notebook": {
     "kernelName": "pwsh"
    },
    "vscode": {
     "languageId": "polyglot-notebook"
    }
   },
   "outputs": [
    {
     "name": "stdout",
     "output_type": "stream",
     "text": [
      "Already logged in as RobEichBamiDec2024Subscription\n",
      "\u001b[31;1mWARNING: A few accounts are skipped as they don't have 'Enabled' state. Use '--all' to display them.\u001b[0m\n",
      "Subscription set to d1ea45fe-b62b-4fb8-9b3b-f718c55a3330\n"
     ]
    }
   ],
   "source": [
    "# Check if you are already logged in\n",
    "$loggedIn = az account show --query \"name\" -o tsv\n",
    "\n",
    "if ($loggedIn -ne $null) {\n",
    "    Write-Host \"Already logged in as $loggedIn\"\n",
    "} else {\n",
    "    Write-Host \"Logging in...\"\n",
    "    az login\n",
    "}\n",
    "# Retrieve default subscription id\n",
    "$subscriptionId = (\n",
    "    (\n",
    "        az account list -o json `\n",
    "            --query \"[?isDefault]\"\n",
    "    ) | ConvertFrom-Json\n",
    ").id\n",
    "\n",
    "# Set Subscription\n",
    "az account set --subscription $subscriptionId\n",
    "Write-Host \"Subscription set to $subscriptionId\""
   ]
  },
  {
   "cell_type": "markdown",
   "metadata": {},
   "source": [
    "## Step 2:   Define project unifier\n",
    "\n",
    "The project unifier is used to allow multiple deployments of services which have a need for a unique custom endpoint."
   ]
  },
  {
   "cell_type": "code",
   "execution_count": 2,
   "metadata": {
    "dotnet_interactive": {
     "language": "pwsh"
    },
    "polyglot_notebook": {
     "kernelName": "pwsh"
    },
    "vscode": {
     "languageId": "polyglot-notebook"
    }
   },
   "outputs": [
    {
     "name": "stdout",
     "output_type": "stream",
     "text": [
      "Unifier set to: 214\r\n"
     ]
    }
   ],
   "source": [
    "# Define Project Unifier\n",
    "\n",
    "$random = Get-Random -Minimum 100 -Maximum 999\n",
    "\n",
    "Write-Host \"Unifier set to: $random\""
   ]
  },
  {
   "cell_type": "markdown",
   "metadata": {},
   "source": [
    "## Step 3:   Create Resource Group\n",
    "\n",
    "In this sample all resources are deployed to `swedencentral`. Feel free to change to your preferred location."
   ]
  },
  {
   "cell_type": "code",
   "execution_count": 3,
   "metadata": {
    "dotnet_interactive": {
     "language": "pwsh"
    },
    "polyglot_notebook": {
     "kernelName": "pwsh"
    },
    "vscode": {
     "languageId": "polyglot-notebook"
    }
   },
   "outputs": [
    {
     "name": "stdout",
     "output_type": "stream",
     "text": [
      "{\n",
      "  \"id\": \"/subscriptions/d1ea45fe-b62b-4fb8-9b3b-f718c55a3330/resourceGroups/OpenAI.Workshop\",\n",
      "  \"location\": \"swedencentral\",\n",
      "  \"managedBy\": null,\n",
      "  \"name\": \"OpenAI.Workshop\",\n",
      "  \"properties\": {\n",
      "    \"provisioningState\": \"Succeeded\"\n",
      "  },\n",
      "  \"tags\": null,\n",
      "  \"type\": \"Microsoft.Resources/resourceGroups\"\n",
      "}\n"
     ]
    }
   ],
   "source": [
    "# Create Resource Group\n",
    "$resourceGroup = \"OpenAI.Workshop\"\n",
    "$location = \"swedencentral\"\n",
    "\n",
    "az group create `\n",
    "    --location $location `\n",
    "    --resource-group $resourceGroup"
   ]
  },
  {
   "cell_type": "markdown",
   "metadata": {},
   "source": [
    "## Step 4:   Create Azure OpenAI instance\n",
    "\n",
    "An instance of Azure Cognitive Service with the kind `OpenAI` will be created. The `endpoint` and `API key` of the newly created instance are retrieved for later storage in the `application.env` file."
   ]
  },
  {
   "cell_type": "code",
   "execution_count": 4,
   "metadata": {
    "dotnet_interactive": {
     "language": "pwsh"
    },
    "polyglot_notebook": {
     "kernelName": "pwsh"
    },
    "vscode": {
     "languageId": "polyglot-notebook"
    }
   },
   "outputs": [
    {
     "name": "stdout",
     "output_type": "stream",
     "text": [
      "{\n",
      "  \"etag\": \"\\\"1301c009-0000-4700-0000-67bd739b0000\\\"\",\n",
      "  \"id\": \"/subscriptions/d1ea45fe-b62b-4fb8-9b3b-f718c55a3330/resourceGroups/OpenAI.Workshop/providers/Microsoft.CognitiveServices/accounts/WS_AOAI_214\",\n",
      "  \"identity\": null,\n",
      "  \"kind\": \"OpenAI\",\n",
      "  \"location\": \"swedencentral\",\n",
      "  \"name\": \"WS_AOAI_214\",\n",
      "  \"properties\": {\n",
      "    \"abusePenalty\": null,\n",
      "    \"allowedFqdnList\": null,\n",
      "    \"apiProperties\": {\n",
      "      \"aadClientId\": null,\n",
      "      \"aadTenantId\": null,\n",
      "      \"additionalProperties\": null,\n",
      "      \"eventHubConnectionString\": null,\n",
      "      \"qnaAzureSearchEndpointId\": null,\n",
      "      \"qnaAzureSearchEndpointKey\": null,\n",
      "      \"qnaRuntimeEndpoint\": null,\n",
      "      \"statisticsEnabled\": null,\n",
      "      \"storageAccountConnectionString\": null,\n",
      "      \"superUser\": null,\n",
      "      \"websiteName\": null\n",
      "    },\n",
      "    \"callRateLimit\": {\n",
      "      \"count\": null,\n",
      "      \"renewalPeriod\": null,\n",
      "      \"rules\": [\n",
      "        {\n",
      "          \"count\": 30.0,\n",
      "          \"dynamicThrottlingEnabled\": null,\n",
      "          \"key\": \"openai.dalle.post\",\n",
      "          \"matchPatterns\": [\n",
      "            {\n",
      "              \"method\": \"POST\",\n",
      "              \"path\": \"dalle/*\"\n",
      "            },\n",
      "            {\n",
      "              \"method\": \"POST\",\n",
      "              \"path\": \"openai/images/*\"\n",
      "            }\n",
      "          ],\n",
      "          \"minCount\": null,\n",
      "          \"renewalPeriod\": 1.0\n",
      "        },\n",
      "        {\n",
      "          \"count\": 30.0,\n",
      "          \"dynamicThrottlingEnabled\": null,\n",
      "          \"key\": \"openai.dalle.other\",\n",
      "          \"matchPatterns\": [\n",
      "            {\n",
      "              \"method\": \"*\",\n",
      "              \"path\": \"dalle/*\"\n",
      "            },\n",
      "            {\n",
      "              \"method\": \"*\",\n",
      "              \"path\": \"openai/operations/images/*\"\n",
      "            }\n",
      "          ],\n",
      "          \"minCount\": null,\n",
      "          \"renewalPeriod\": 1.0\n",
      "        },\n",
      "        {\n",
      "          \"count\": 100.0,\n",
      "          \"dynamicThrottlingEnabled\": null,\n",
      "          \"key\": \"openai.assistants.default\",\n",
      "          \"matchPatterns\": [\n",
      "            {\n",
      "              \"method\": \"*\",\n",
      "              \"path\": \"openai/assistants/*\"\n",
      "            },\n",
      "            {\n",
      "              \"method\": \"*\",\n",
      "              \"path\": \"openai/threads/*\"\n",
      "            },\n",
      "            {\n",
      "              \"method\": \"*\",\n",
      "              \"path\": \"openai/vector_stores/*\"\n",
      "            }\n",
      "          ],\n",
      "          \"minCount\": null,\n",
      "          \"renewalPeriod\": 1.0\n",
      "        },\n",
      "        {\n",
      "          \"count\": 30.0,\n",
      "          \"dynamicThrottlingEnabled\": null,\n",
      "          \"key\": \"openai.batches.post\",\n",
      "          \"matchPatterns\": [\n",
      "            {\n",
      "              \"method\": \"POST\",\n",
      "              \"path\": \"openai/batches\"\n",
      "            }\n",
      "          ],\n",
      "          \"minCount\": null,\n",
      "          \"renewalPeriod\": 60.0\n",
      "        },\n",
      "        {\n",
      "          \"count\": 500.0,\n",
      "          \"dynamicThrottlingEnabled\": null,\n",
      "          \"key\": \"openai.batches.get\",\n",
      "          \"matchPatterns\": [\n",
      "            {\n",
      "              \"method\": \"GET\",\n",
      "              \"path\": \"openai/batches/*\"\n",
      "            }\n",
      "          ],\n",
      "          \"minCount\": null,\n",
      "          \"renewalPeriod\": 60.0\n",
      "        },\n",
      "        {\n",
      "          \"count\": 100.0,\n",
      "          \"dynamicThrottlingEnabled\": null,\n",
      "          \"key\": \"openai.batches.list\",\n",
      "          \"matchPatterns\": [\n",
      "            {\n",
      "              \"method\": \"GET\",\n",
      "              \"path\": \"openai/batches\"\n",
      "            }\n",
      "          ],\n",
      "          \"minCount\": null,\n",
      "          \"renewalPeriod\": 60.0\n",
      "        },\n",
      "        {\n",
      "          \"count\": 30.0,\n",
      "          \"dynamicThrottlingEnabled\": null,\n",
      "          \"key\": \"openai\",\n",
      "          \"matchPatterns\": [\n",
      "            {\n",
      "              \"method\": \"*\",\n",
      "              \"path\": \"openai/*\"\n",
      "            }\n",
      "          ],\n",
      "          \"minCount\": null,\n",
      "          \"renewalPeriod\": 1.0\n",
      "        },\n",
      "        {\n",
      "          \"count\": 30.0,\n",
      "          \"dynamicThrottlingEnabled\": null,\n",
      "          \"key\": \"default\",\n",
      "          \"matchPatterns\": [\n",
      "            {\n",
      "              \"method\": \"*\",\n",
      "              \"path\": \"*\"\n",
      "            }\n",
      "          ],\n",
      "          \"minCount\": null,\n",
      "          \"renewalPeriod\": 1.0\n",
      "        }\n",
      "      ]\n",
      "    },\n",
      "    \"capabilities\": [\n",
      "      {\n",
      "        \"name\": \"VirtualNetworks\",\n",
      "        \"value\": null\n",
      "      },\n",
      "      {\n",
      "        \"name\": \"CustomerManagedKey\",\n",
      "        \"value\": null\n",
      "      },\n",
      "      {\n",
      "        \"name\": \"MaxFineTuneCount\",\n",
      "        \"value\": \"100\"\n",
      "      },\n",
      "      {\n",
      "        \"name\": \"MaxRunningFineTuneCount\",\n",
      "        \"value\": \"3\"\n",
      "      },\n",
      "      {\n",
      "        \"name\": \"MaxUserFileCount\",\n",
      "        \"value\": \"50\"\n",
      "      },\n",
      "      {\n",
      "        \"name\": \"MaxTrainingFileSize\",\n",
      "        \"value\": \"512000000\"\n",
      "      },\n",
      "      {\n",
      "        \"name\": \"MaxUserFileImportDurationInHours\",\n",
      "        \"value\": \"1\"\n",
      "      },\n",
      "      {\n",
      "        \"name\": \"MaxFineTuneJobDurationInHours\",\n",
      "        \"value\": \"720\"\n",
      "      },\n",
      "      {\n",
      "        \"name\": \"MaxEvaluationRunDurationInHours\",\n",
      "        \"value\": \"5\"\n",
      "      },\n",
      "      {\n",
      "        \"name\": \"MaxRunningEvaluationCount\",\n",
      "        \"value\": \"5\"\n",
      "      },\n",
      "      {\n",
      "        \"name\": \"IsEvaluationEnabled\",\n",
      "        \"value\": \"true\"\n",
      "      },\n",
      "      {\n",
      "        \"name\": \"TrustedServices\",\n",
      "        \"value\": \"Microsoft.CognitiveServices,Microsoft.MachineLearningServices,Microsoft.Search,Microsoft.VideoIndexer\"\n",
      "      },\n",
      "      {\n",
      "        \"name\": \"RaiMonitor\",\n",
      "        \"value\": null\n",
      "      }\n",
      "    ],\n",
      "    \"commitmentPlanAssociations\": null,\n",
      "    \"customSubDomainName\": null,\n",
      "    \"dateCreated\": \"2025-02-25T07:38:53.229293Z\",\n",
      "    \"deletionDate\": null,\n",
      "    \"disableLocalAuth\": null,\n",
      "    \"dynamicThrottlingEnabled\": null,\n",
      "    \"encryption\": null,\n",
      "    \"endpoint\": \"https://swedencentral.api.cognitive.microsoft.com/\",\n",
      "    \"endpoints\": {\n",
      "      \"OpenAI Dall-E API\": \"https://swedencentral.api.cognitive.microsoft.com/\",\n",
      "      \"OpenAI Language Model Instance API\": \"https://swedencentral.api.cognitive.microsoft.com/\",\n",
      "      \"OpenAI Model Scaleset API\": \"https://swedencentral.api.cognitive.microsoft.com/\",\n",
      "      \"OpenAI Realtime API\": \"https://swedencentral.api.cognitive.microsoft.com/\",\n",
      "      \"OpenAI Whisper API\": \"https://swedencentral.api.cognitive.microsoft.com/\",\n",
      "      \"Token Service API\": \"https://swedencentral.api.cognitive.microsoft.com/\"\n",
      "    },\n",
      "    \"internalId\": \"e0ce9136000245ff888235fe60fdec3b\",\n",
      "    \"isMigrated\": false,\n",
      "    \"locations\": null,\n",
      "    \"migrationToken\": null,\n",
      "    \"networkAcls\": null,\n",
      "    \"privateEndpointConnections\": [],\n",
      "    \"provisioningState\": \"Succeeded\",\n",
      "    \"publicNetworkAccess\": \"Enabled\",\n",
      "    \"quotaLimit\": null,\n",
      "    \"restore\": null,\n",
      "    \"restrictOutboundNetworkAccess\": null,\n",
      "    \"scheduledPurgeDate\": null,\n",
      "    \"skuChangeInfo\": null,\n",
      "    \"userOwnedStorage\": null\n",
      "  },\n",
      "  \"resourceGroup\": \"OpenAI.Workshop\",\n",
      "  \"sku\": {\n",
      "    \"capacity\": null,\n",
      "    \"family\": null,\n",
      "    \"name\": \"S0\",\n",
      "    \"size\": null,\n",
      "    \"tier\": null\n",
      "  },\n",
      "  \"systemData\": {\n",
      "    \"createdAt\": \"2025-02-25T07:38:52.949531+00:00\",\n",
      "    \"createdBy\": \"robeich@microsoft.com\",\n",
      "    \"createdByType\": \"User\",\n",
      "    \"lastModifiedAt\": \"2025-02-25T07:38:52.949531+00:00\",\n",
      "    \"lastModifiedBy\": \"robeich@microsoft.com\",\n",
      "    \"lastModifiedByType\": \"User\"\n",
      "  },\n",
      "  \"tags\": null,\n",
      "  \"type\": \"Microsoft.CognitiveServices/accounts\"\n",
      "}\n"
     ]
    }
   ],
   "source": [
    "# Create Azure OpenAI Account\n",
    "$csOpenAIName = \"WS_AOAI_$random\"\n",
    "\n",
    "az cognitiveservices account create `\n",
    "    --name $csOpenAIName `\n",
    "    --resource-group $resourceGroup `\n",
    "    --location $location `\n",
    "    --kind OpenAI `\n",
    "    --sku S0 `\n",
    "    --yes\n",
    "\n",
    "$csOpenAIId = ( `\n",
    "    az cognitiveservices account show `\n",
    "        --name $csOpenAIName `\n",
    "        --resource-group $resourceGroup `\n",
    "        --query id `\n",
    "        --output tsv `\n",
    ")\n",
    "\n",
    "$csOpenAIEndpoint = ( `\n",
    "    az cognitiveservices account show `\n",
    "        --name $csOpenAIName `\n",
    "        --resource-group $resourceGroup `\n",
    "        --query properties.endpoint `\n",
    "        --output tsv `\n",
    ")\n",
    "\n",
    "$csOpenAIApiKey = (\n",
    "    az cognitiveservices account keys list `\n",
    "        --name $csOpenAIName `\n",
    "        --resource-group $resourceGroup `\n",
    "        --query key1 `\n",
    "        --output tsv `\n",
    ")\n"
   ]
  },
  {
   "cell_type": "markdown",
   "metadata": {},
   "source": [
    "If you get an error message saying **\"... you have to accept terms for responsible AI ...\"** then most probably this is the first time you deploy an Azure OpenAI instance. In this case please use the [Azure Portal](https://portal.azure.com) to provision the Azure OpenAI instance and accept the terms for responsible AI."
   ]
  },
  {
   "cell_type": "markdown",
   "metadata": {},
   "source": [
    "## Step 5:   Deploy Azure OpenAI models\n",
    "\n",
    "Two LLM models are deployed to the newly created Azure Cognitive Service instance: \n",
    "\n",
    "- A chat completion model. In the sample we're deploying `gpt-4o`. This can be replaced with other models providing a chat completion interface like `gpt-35-turbo` or others.\n",
    "- A text embedding model. In the sample we're deploying `text-embedding-ada-002`. Any other text embedding model can be deployed as well."
   ]
  },
  {
   "cell_type": "code",
   "execution_count": 5,
   "metadata": {
    "dotnet_interactive": {
     "language": "pwsh"
    },
    "polyglot_notebook": {
     "kernelName": "pwsh"
    },
    "vscode": {
     "languageId": "polyglot-notebook"
    }
   },
   "outputs": [
    {
     "name": "stdout",
     "output_type": "stream",
     "text": [
      "{\n",
      "  \"etag\": \"\\\"4b5f2e0f-1fdb-4dda-a6ec-4f11e3b23450\\\"\",\n",
      "  \"id\": \"/subscriptions/d1ea45fe-b62b-4fb8-9b3b-f718c55a3330/resourceGroups/OpenAI.Workshop/providers/Microsoft.CognitiveServices/accounts/WS_AOAI_214/deployments/gpt-4o\",\n",
      "  \"name\": \"gpt-4o\",\n",
      "  \"properties\": {\n",
      "    \"callRateLimit\": null,\n",
      "    \"capabilities\": {\n",
      "      \"area\": \"EUR\",\n",
      "      \"assistants\": \"true\",\n",
      "      \"chatCompletion\": \"true\",\n",
      "      \"jsonObjectResponse\": \"true\",\n",
      "      \"maxContextToken\": \"128000\",\n",
      "      \"maxOutputToken\": \"4096\"\n",
      "    },\n",
      "    \"model\": {\n",
      "      \"callRateLimit\": null,\n",
      "      \"format\": \"OpenAI\",\n",
      "      \"name\": \"gpt-4o\",\n",
      "      \"source\": null,\n",
      "      \"version\": \"2024-05-13\"\n",
      "    },\n",
      "    \"provisioningState\": \"Succeeded\",\n",
      "    \"raiPolicyName\": null,\n",
      "    \"rateLimits\": [\n",
      "      {\n",
      "        \"count\": 1.0,\n",
      "        \"dynamicThrottlingEnabled\": null,\n",
      "        \"key\": \"request\",\n",
      "        \"matchPatterns\": null,\n",
      "        \"minCount\": null,\n",
      "        \"renewalPeriod\": 10.0\n",
      "      },\n",
      "      {\n",
      "        \"count\": 1000.0,\n",
      "        \"dynamicThrottlingEnabled\": null,\n",
      "        \"key\": \"token\",\n",
      "        \"matchPatterns\": null,\n",
      "        \"minCount\": null,\n",
      "        \"renewalPeriod\": 60.0\n",
      "      }\n",
      "    ],\n",
      "    \"scaleSettings\": null,\n",
      "    \"versionUpgradeOption\": \"OnceNewDefaultVersionAvailable\"\n",
      "  },\n",
      "  \"resourceGroup\": \"OpenAI.Workshop\",\n",
      "  \"sku\": {\n",
      "    \"capacity\": 1,\n",
      "    \"family\": null,\n",
      "    \"name\": \"Standard\",\n",
      "    \"size\": null,\n",
      "    \"tier\": null\n",
      "  },\n",
      "  \"systemData\": {\n",
      "    \"createdAt\": \"2025-02-25T07:39:46.656424+00:00\",\n",
      "    \"createdBy\": \"robeich@microsoft.com\",\n",
      "    \"createdByType\": \"User\",\n",
      "    \"lastModifiedAt\": \"2025-02-25T07:39:46.656424+00:00\",\n",
      "    \"lastModifiedBy\": \"robeich@microsoft.com\",\n",
      "    \"lastModifiedByType\": \"User\"\n",
      "  },\n",
      "  \"type\": \"Microsoft.CognitiveServices/accounts/deployments\"\n",
      "}\n"
     ]
    }
   ],
   "source": [
    "# Chat Completion Model\n",
    "$modelChatCompletionDeploymentName = \"gpt-4o\"\n",
    "$modelName = \"gpt-4o\"\n",
    "$modelVersion = \"2024-05-13\"\n",
    "$modelFormat = \"OpenAI\"\n",
    "$scaleType = \"Standard\"\n",
    "\n",
    "az cognitiveservices account deployment create `\n",
    "   --resource-group $resourceGroup `\n",
    "   --name $csOpenAIName `\n",
    "   --deployment-name $modelChatCompletionDeploymentName `\n",
    "   --model-name $modelName `\n",
    "   --model-version $modelVersion `\n",
    "   --model-format $modelFormat `\n",
    "   --sku-name $scaleType `\n",
    "   --sku-capacity 1\n"
   ]
  },
  {
   "cell_type": "code",
   "execution_count": 6,
   "metadata": {
    "dotnet_interactive": {
     "language": "pwsh"
    },
    "polyglot_notebook": {
     "kernelName": "pwsh"
    },
    "vscode": {
     "languageId": "polyglot-notebook"
    }
   },
   "outputs": [
    {
     "name": "stdout",
     "output_type": "stream",
     "text": [
      "{\n",
      "  \"etag\": \"\\\"a72f0eaa-d6d0-481f-8ad9-c31a8474a07c\\\"\",\n",
      "  \"id\": \"/subscriptions/d1ea45fe-b62b-4fb8-9b3b-f718c55a3330/resourceGroups/OpenAI.Workshop/providers/Microsoft.CognitiveServices/accounts/WS_AOAI_214/deployments/textembedding-ada-002\",\n",
      "  \"name\": \"textembedding-ada-002\",\n",
      "  \"properties\": {\n",
      "    \"callRateLimit\": null,\n",
      "    \"capabilities\": {\n",
      "      \"embeddings\": \"true\",\n",
      "      \"embeddingsMaxInputs\": \"2048\"\n",
      "    },\n",
      "    \"model\": {\n",
      "      \"callRateLimit\": null,\n",
      "      \"format\": \"OpenAI\",\n",
      "      \"name\": \"text-embedding-ada-002\",\n",
      "      \"source\": null,\n",
      "      \"version\": \"2\"\n",
      "    },\n",
      "    \"provisioningState\": \"Succeeded\",\n",
      "    \"raiPolicyName\": null,\n",
      "    \"rateLimits\": [\n",
      "      {\n",
      "        \"count\": 1.0,\n",
      "        \"dynamicThrottlingEnabled\": null,\n",
      "        \"key\": \"request\",\n",
      "        \"matchPatterns\": null,\n",
      "        \"minCount\": null,\n",
      "        \"renewalPeriod\": 10.0\n",
      "      },\n",
      "      {\n",
      "        \"count\": 1000.0,\n",
      "        \"dynamicThrottlingEnabled\": null,\n",
      "        \"key\": \"token\",\n",
      "        \"matchPatterns\": null,\n",
      "        \"minCount\": null,\n",
      "        \"renewalPeriod\": 60.0\n",
      "      }\n",
      "    ],\n",
      "    \"scaleSettings\": null,\n",
      "    \"versionUpgradeOption\": \"OnceNewDefaultVersionAvailable\"\n",
      "  },\n",
      "  \"resourceGroup\": \"OpenAI.Workshop\",\n",
      "  \"sku\": {\n",
      "    \"capacity\": 1,\n",
      "    \"family\": null,\n",
      "    \"name\": \"Standard\",\n",
      "    \"size\": null,\n",
      "    \"tier\": null\n",
      "  },\n",
      "  \"systemData\": {\n",
      "    \"createdAt\": \"2025-02-25T07:40:00.844465+00:00\",\n",
      "    \"createdBy\": \"robeich@microsoft.com\",\n",
      "    \"createdByType\": \"User\",\n",
      "    \"lastModifiedAt\": \"2025-02-25T07:40:00.844465+00:00\",\n",
      "    \"lastModifiedBy\": \"robeich@microsoft.com\",\n",
      "    \"lastModifiedByType\": \"User\"\n",
      "  },\n",
      "  \"type\": \"Microsoft.CognitiveServices/accounts/deployments\"\n",
      "}\n"
     ]
    }
   ],
   "source": [
    "# Text Embedding Model\n",
    "$modelFormat = \"OpenAI\"\n",
    "$modelEmbeddingDeploymentName = \"textembedding-ada-002\"\n",
    "$modelName = \"text-embedding-ada-002\"\n",
    "$modelVersion = \"2\"\n",
    "$scaleType = \"Standard\"\n",
    "\n",
    "az cognitiveservices account deployment create `\n",
    "   --resource-group $resourceGroup `\n",
    "   --name $csOpenAIName `\n",
    "   --deployment-name $modelEmbeddingDeploymentName `\n",
    "   --model-name $modelName `\n",
    "   --model-version $modelVersion `\n",
    "   --model-format $modelFormat `\n",
    "   --sku-name $scaleType `\n",
    "   --sku-capacity 1\n",
    "\n"
   ]
  },
  {
   "cell_type": "code",
   "execution_count": 7,
   "metadata": {
    "dotnet_interactive": {
     "language": "pwsh"
    },
    "polyglot_notebook": {
     "kernelName": "pwsh"
    },
    "vscode": {
     "languageId": "polyglot-notebook"
    }
   },
   "outputs": [
    {
     "name": "stdout",
     "output_type": "stream",
     "text": [
      "\u001b[31;1mERROR: (InsufficientQuota) This operation require 1 new capacity in quota Capacity Unit - Dalle, which is bigger than the current available capacity 0. The current quota usage is 1 and the quota limit is 1 for quota Capacity Unit - Dalle.\u001b[0m\n",
      "\u001b[31;1mCode: InsufficientQuota\u001b[0m\n",
      "\u001b[31;1mMessage: This operation require 1 new capacity in quota Capacity Unit - Dalle, which is bigger than the current available capacity 0. The current quota usage is 1 and the quota limit is 1 for quota Capacity Unit - Dalle.\u001b[0m\n"
     ]
    }
   ],
   "source": [
    "# Dall-E Model\n",
    "$modelFormat = \"OpenAI\"\n",
    "$modelImageDeploymentName = \"dall-e-3\"\n",
    "$modelName = \"dall-e-3\"\n",
    "$modelVersion = \"3.0\"\n",
    "$scaleType = \"Standard\"\n",
    "\n",
    "az cognitiveservices account deployment create `\n",
    "   --resource-group $resourceGroup `\n",
    "   --name $csOpenAIName `\n",
    "   --deployment-name $modelImageDeploymentName `\n",
    "   --model-name $modelName `\n",
    "   --model-version $modelVersion `\n",
    "   --model-format $modelFormat `\n",
    "   --sku-name $scaleType `\n",
    "   --sku-capacity 1\n"
   ]
  },
  {
   "cell_type": "markdown",
   "metadata": {},
   "source": [
    "## Step 6: Create Azure AI Vision\n",
    "\n",
    "Azure AI Vision is deployed to use its multi modal embedding capabilities. Specifically the functionality to embed images into a multi vector space and query the image embeddings using text. "
   ]
  },
  {
   "cell_type": "code",
   "execution_count": 8,
   "metadata": {
    "dotnet_interactive": {
     "language": "pwsh"
    },
    "polyglot_notebook": {
     "kernelName": "pwsh"
    },
    "vscode": {
     "languageId": "polyglot-notebook"
    }
   },
   "outputs": [
    {
     "name": "stdout",
     "output_type": "stream",
     "text": [
      "{\n",
      "  \"etag\": \"\\\"13018611-0000-4700-0000-67bd73e90000\\\"\",\n",
      "  \"id\": \"/subscriptions/d1ea45fe-b62b-4fb8-9b3b-f718c55a3330/resourceGroups/OpenAI.Workshop/providers/Microsoft.CognitiveServices/accounts/wsvision214\",\n",
      "  \"identity\": null,\n",
      "  \"kind\": \"ComputerVision\",\n",
      "  \"location\": \"swedencentral\",\n",
      "  \"name\": \"wsvision214\",\n",
      "  \"properties\": {\n",
      "    \"abusePenalty\": null,\n",
      "    \"allowedFqdnList\": null,\n",
      "    \"apiProperties\": null,\n",
      "    \"callRateLimit\": {\n",
      "      \"count\": null,\n",
      "      \"renewalPeriod\": null,\n",
      "      \"rules\": [\n",
      "        {\n",
      "          \"count\": 30.0,\n",
      "          \"dynamicThrottlingEnabled\": true,\n",
      "          \"key\": \"vision.recognizeText\",\n",
      "          \"matchPatterns\": [\n",
      "            {\n",
      "              \"method\": \"POST\",\n",
      "              \"path\": \"vision/recognizeText\"\n",
      "            },\n",
      "            {\n",
      "              \"method\": \"GET\",\n",
      "              \"path\": \"vision/textOperations/*\"\n",
      "            },\n",
      "            {\n",
      "              \"method\": \"*\",\n",
      "              \"path\": \"vision/read/*\"\n",
      "            }\n",
      "          ],\n",
      "          \"minCount\": null,\n",
      "          \"renewalPeriod\": 1.0\n",
      "        },\n",
      "        {\n",
      "          \"count\": 20.0,\n",
      "          \"dynamicThrottlingEnabled\": true,\n",
      "          \"key\": \"vision\",\n",
      "          \"matchPatterns\": [\n",
      "            {\n",
      "              \"method\": \"*\",\n",
      "              \"path\": \"vision/*\"\n",
      "            }\n",
      "          ],\n",
      "          \"minCount\": null,\n",
      "          \"renewalPeriod\": 1.0\n",
      "        },\n",
      "        {\n",
      "          \"count\": 500.0,\n",
      "          \"dynamicThrottlingEnabled\": null,\n",
      "          \"key\": \"container.billing\",\n",
      "          \"matchPatterns\": [\n",
      "            {\n",
      "              \"method\": \"*\",\n",
      "              \"path\": \"billing/*\"\n",
      "            }\n",
      "          ],\n",
      "          \"minCount\": null,\n",
      "          \"renewalPeriod\": 10.0\n",
      "        },\n",
      "        {\n",
      "          \"count\": 20.0,\n",
      "          \"dynamicThrottlingEnabled\": true,\n",
      "          \"key\": \"default\",\n",
      "          \"matchPatterns\": [\n",
      "            {\n",
      "              \"method\": \"*\",\n",
      "              \"path\": \"*\"\n",
      "            }\n",
      "          ],\n",
      "          \"minCount\": null,\n",
      "          \"renewalPeriod\": 1.0\n",
      "        }\n",
      "      ]\n",
      "    },\n",
      "    \"capabilities\": [\n",
      "      {\n",
      "        \"name\": \"DynamicThrottling\",\n",
      "        \"value\": null\n",
      "      },\n",
      "      {\n",
      "        \"name\": \"VirtualNetworks\",\n",
      "        \"value\": null\n",
      "      },\n",
      "      {\n",
      "        \"name\": \"Container\",\n",
      "        \"value\": \"ComputerVision.VideoAnalytics,ComputerVision.ComputerVisionRead,ComputerVision.ocr,ComputerVision.readfile,ComputerVision.readfiledsd,ComputerVision.recognizetext,ComputerVision.ComputerVision,ComputerVision.ocrlayoutworker,ComputerVision.ocrcontroller,ComputerVision.ocrdispatcher,ComputerVision.ocrbillingprocessor,ComputerVision.ocranalyzer,ComputerVision.ocrpagesplitter,ComputerVision.ocrapi,ComputerVision.ocrengineworker\"\n",
      "      }\n",
      "    ],\n",
      "    \"commitmentPlanAssociations\": null,\n",
      "    \"customSubDomainName\": null,\n",
      "    \"dateCreated\": \"2025-02-25T07:40:25.4527729Z\",\n",
      "    \"deletionDate\": null,\n",
      "    \"disableLocalAuth\": null,\n",
      "    \"dynamicThrottlingEnabled\": null,\n",
      "    \"encryption\": null,\n",
      "    \"endpoint\": \"https://swedencentral.api.cognitive.microsoft.com/\",\n",
      "    \"endpoints\": {\n",
      "      \"Computer Vision\": \"https://swedencentral.api.cognitive.microsoft.com/\",\n",
      "      \"Container\": \"https://swedencentral.api.cognitive.microsoft.com/\"\n",
      "    },\n",
      "    \"internalId\": \"fb7ffa25d3894b1195ef4963b2c4fa88\",\n",
      "    \"isMigrated\": false,\n",
      "    \"locations\": null,\n",
      "    \"migrationToken\": null,\n",
      "    \"networkAcls\": null,\n",
      "    \"privateEndpointConnections\": [],\n",
      "    \"provisioningState\": \"Succeeded\",\n",
      "    \"publicNetworkAccess\": \"Enabled\",\n",
      "    \"quotaLimit\": null,\n",
      "    \"restore\": null,\n",
      "    \"restrictOutboundNetworkAccess\": null,\n",
      "    \"scheduledPurgeDate\": null,\n",
      "    \"skuChangeInfo\": null,\n",
      "    \"userOwnedStorage\": null\n",
      "  },\n",
      "  \"resourceGroup\": \"OpenAI.Workshop\",\n",
      "  \"sku\": {\n",
      "    \"capacity\": null,\n",
      "    \"family\": null,\n",
      "    \"name\": \"S1\",\n",
      "    \"size\": null,\n",
      "    \"tier\": null\n",
      "  },\n",
      "  \"systemData\": {\n",
      "    \"createdAt\": \"2025-02-25T07:40:25.315887+00:00\",\n",
      "    \"createdBy\": \"robeich@microsoft.com\",\n",
      "    \"createdByType\": \"User\",\n",
      "    \"lastModifiedAt\": \"2025-02-25T07:40:25.315887+00:00\",\n",
      "    \"lastModifiedBy\": \"robeich@microsoft.com\",\n",
      "    \"lastModifiedByType\": \"User\"\n",
      "  },\n",
      "  \"tags\": null,\n",
      "  \"type\": \"Microsoft.CognitiveServices/accounts\"\n",
      "}\n"
     ]
    }
   ],
   "source": [
    "# AI Vision\n",
    "$csVisionName = \"wsvision$random\"\n",
    "$csVisionSku = \"S1\"\n",
    "\n",
    "az cognitiveservices account create `\n",
    "    --name $csVisionName `\n",
    "    --resource-group $resourceGroup `\n",
    "    --location $location `\n",
    "    --kind ComputerVision `\n",
    "    --sku $csVisionSku `\n",
    "    --yes\n",
    "\n",
    "$csVisionEndpoint = ( `\n",
    "    az cognitiveservices account show `\n",
    "        --name $csVisionName `\n",
    "        --resource-group $resourceGroup `\n",
    "        --query properties.endpoint `\n",
    "        --output tsv `\n",
    ")\n",
    "\n",
    "$csVisionApiKey = ( `\n",
    "    az cognitiveservices account keys list `\n",
    "        --name $csVisionName `\n",
    "        --resource-group $resourceGroup `\n",
    "        --query key1 `\n",
    "        --output tsv `\n",
    ")\n"
   ]
  },
  {
   "cell_type": "markdown",
   "metadata": {},
   "source": [
    "## Step 7:   Create Azure AI Search\n",
    "\n",
    "Azure AI Search is deployed to use its [vector DB functionalities](https://learn.microsoft.com/en-us/azure/search/vector-search-overview). \n",
    "Just like with Azure OpenAI Cognitive Service, the `endpoint` and `API key` of the newly created instance are retrieved for later storage in the `application.env` file. The SKU 'free' is used for the instance. Ensure that you haven't yet deployed a free SKU or change to 'standard'"
   ]
  },
  {
   "cell_type": "code",
   "execution_count": 9,
   "metadata": {
    "dotnet_interactive": {
     "language": "pwsh"
    },
    "polyglot_notebook": {
     "kernelName": "pwsh"
    },
    "vscode": {
     "languageId": "polyglot-notebook"
    }
   },
   "outputs": [
    {
     "name": "stdout",
     "output_type": "stream",
     "text": [
      "{\n",
      "  \"authOptions\": {\n",
      "    \"apiKeyOnly\": {}\n",
      "  },\n",
      "  \"disableLocalAuth\": false,\n",
      "  \"encryptionWithCmk\": {\n",
      "    \"encryptionComplianceStatus\": \"Compliant\",\n",
      "    \"enforcement\": \"Unspecified\"\n",
      "  },\n",
      "  \"hostingMode\": \"default\",\n",
      "  \"id\": \"/subscriptions/d1ea45fe-b62b-4fb8-9b3b-f718c55a3330/resourceGroups/OpenAI.Workshop/providers/Microsoft.Search/searchServices/ws-aisearch-214\",\n",
      "  \"location\": \"Sweden Central\",\n",
      "  \"name\": \"ws-aisearch-214\",\n",
      "  \"networkRuleSet\": {\n",
      "    \"ipRules\": []\n",
      "  },\n",
      "  \"partitionCount\": 1,\n",
      "  \"privateEndpointConnections\": [],\n",
      "  \"provisioningState\": \"succeeded\",\n",
      "  \"publicNetworkAccess\": \"Enabled\",\n",
      "  \"replicaCount\": 1,\n",
      "  \"resourceGroup\": \"OpenAI.Workshop\",\n",
      "  \"semanticSearch\": \"disabled\",\n",
      "  \"sharedPrivateLinkResources\": [],\n",
      "  \"sku\": {\n",
      "    \"name\": \"free\"\n",
      "  },\n",
      "  \"status\": \"running\",\n",
      "  \"statusDetails\": \"\",\n",
      "  \"type\": \"Microsoft.Search/searchServices\"\n",
      "}\n"
     ]
    }
   ],
   "source": [
    "# Azure AI Search\n",
    "$csSearchName = \"ws-aisearch-$random\"\n",
    "$csSearchSku = \"free\"\n",
    "\n",
    "az search service create `\n",
    "    --name $csSearchName `\n",
    "    --resource-group $resourceGroup `\n",
    "    --location $location `\n",
    "    --sku $csSearchSku\n",
    "\n",
    "$csSearchEndpoint = \"https://$csSearchName.search.windows.net\"\n",
    "\n",
    "$csSearchApiKey = ( `\n",
    "    az search admin-key show `\n",
    "        --resource-group $resourceGroup `\n",
    "        --service-name $csSearchName `\n",
    "        --query primaryKey `\n",
    "        --output tsv `\n",
    ")"
   ]
  },
  {
   "cell_type": "markdown",
   "metadata": {},
   "source": [
    "## Step 8:   Create Azure Storage account\n",
    "\n",
    "Azure Storage is deployed to store data to e.g. create image embeddings using Azure AI Vision."
   ]
  },
  {
   "cell_type": "code",
   "execution_count": 10,
   "metadata": {
    "dotnet_interactive": {
     "language": "pwsh"
    },
    "polyglot_notebook": {
     "kernelName": "pwsh"
    },
    "vscode": {
     "languageId": "polyglot-notebook"
    }
   },
   "outputs": [
    {
     "name": "stdout",
     "output_type": "stream",
     "text": [
      "{\n",
      "  \"accessTier\": \"Hot\",\n",
      "  \"accountMigrationInProgress\": null,\n",
      "  \"allowBlobPublicAccess\": false,\n",
      "  \"allowCrossTenantReplication\": false,\n",
      "  \"allowSharedKeyAccess\": null,\n",
      "  \"allowedCopyScope\": null,\n",
      "  \"azureFilesIdentityBasedAuthentication\": null,\n",
      "  \"blobRestoreStatus\": null,\n",
      "  \"creationTime\": \"2025-02-25T07:41:23.177225+00:00\",\n",
      "  \"customDomain\": null,\n",
      "  \"defaultToOAuthAuthentication\": null,\n",
      "  \"dnsEndpointType\": null,\n",
      "  \"enableExtendedGroups\": null,\n",
      "  \"enableHttpsTrafficOnly\": true,\n",
      "  \"enableNfsV3\": null,\n",
      "  \"encryption\": {\n",
      "    \"encryptionIdentity\": null,\n",
      "    \"keySource\": \"Microsoft.Storage\",\n",
      "    \"keyVaultProperties\": null,\n",
      "    \"requireInfrastructureEncryption\": null,\n",
      "    \"services\": {\n",
      "      \"blob\": {\n",
      "        \"enabled\": true,\n",
      "        \"keyType\": \"Account\",\n",
      "        \"lastEnabledTime\": \"2025-02-25T07:41:24.020992+00:00\"\n",
      "      },\n",
      "      \"file\": {\n",
      "        \"enabled\": true,\n",
      "        \"keyType\": \"Account\",\n",
      "        \"lastEnabledTime\": \"2025-02-25T07:41:24.020992+00:00\"\n",
      "      },\n",
      "      \"queue\": null,\n",
      "      \"table\": null\n",
      "    }\n",
      "  },\n",
      "  \"extendedLocation\": null,\n",
      "  \"failoverInProgress\": null,\n",
      "  \"geoReplicationStats\": null,\n",
      "  \"id\": \"/subscriptions/d1ea45fe-b62b-4fb8-9b3b-f718c55a3330/resourceGroups/OpenAI.Workshop/providers/Microsoft.Storage/storageAccounts/wsstorage214\",\n",
      "  \"identity\": null,\n",
      "  \"immutableStorageWithVersioning\": null,\n",
      "  \"isHnsEnabled\": null,\n",
      "  \"isLocalUserEnabled\": null,\n",
      "  \"isSftpEnabled\": null,\n",
      "  \"isSkuConversionBlocked\": null,\n",
      "  \"keyCreationTime\": {\n",
      "    \"key1\": \"2025-02-25T07:41:23.255351+00:00\",\n",
      "    \"key2\": \"2025-02-25T07:41:23.255351+00:00\"\n",
      "  },\n",
      "  \"keyPolicy\": null,\n",
      "  \"kind\": \"StorageV2\",\n",
      "  \"largeFileSharesState\": null,\n",
      "  \"lastGeoFailoverTime\": null,\n",
      "  \"location\": \"swedencentral\",\n",
      "  \"minimumTlsVersion\": \"TLS1_0\",\n",
      "  \"name\": \"wsstorage214\",\n",
      "  \"networkRuleSet\": {\n",
      "    \"bypass\": \"AzureServices\",\n",
      "    \"defaultAction\": \"Allow\",\n",
      "    \"ipRules\": [],\n",
      "    \"ipv6Rules\": [],\n",
      "    \"resourceAccessRules\": null,\n",
      "    \"virtualNetworkRules\": []\n",
      "  },\n",
      "  \"primaryEndpoints\": {\n",
      "    \"blob\": \"https://wsstorage214.blob.core.windows.net/\",\n",
      "    \"dfs\": \"https://wsstorage214.dfs.core.windows.net/\",\n",
      "    \"file\": \"https://wsstorage214.file.core.windows.net/\",\n",
      "    \"internetEndpoints\": null,\n",
      "    \"microsoftEndpoints\": null,\n",
      "    \"queue\": \"https://wsstorage214.queue.core.windows.net/\",\n",
      "    \"table\": \"https://wsstorage214.table.core.windows.net/\",\n",
      "    \"web\": \"https://wsstorage214.z1.web.core.windows.net/\"\n",
      "  },\n",
      "  \"primaryLocation\": \"swedencentral\",\n",
      "  \"privateEndpointConnections\": [],\n",
      "  \"provisioningState\": \"Succeeded\",\n",
      "  \"publicNetworkAccess\": null,\n",
      "  \"resourceGroup\": \"OpenAI.Workshop\",\n",
      "  \"routingPreference\": null,\n",
      "  \"sasPolicy\": null,\n",
      "  \"secondaryEndpoints\": null,\n",
      "  \"secondaryLocation\": null,\n",
      "  \"sku\": {\n",
      "    \"name\": \"Standard_LRS\",\n",
      "    \"tier\": \"Standard\"\n",
      "  },\n",
      "  \"statusOfPrimary\": \"available\",\n",
      "  \"statusOfSecondary\": null,\n",
      "  \"storageAccountSkuConversionStatus\": null,\n",
      "  \"tags\": {},\n",
      "  \"type\": \"Microsoft.Storage/storageAccounts\"\n",
      "}\n"
     ]
    }
   ],
   "source": [
    "# Create Storage Account\n",
    "$stgName = \"wsstorage$random\"\n",
    "$stgSku = \"Standard_LRS\"\n",
    "\n",
    "az storage account create `\n",
    "    --name $stgName `\n",
    "    --resource-group $resourceGroup `\n",
    "    --location $location `\n",
    "    --sku $stgSku `\n",
    "    --kind StorageV2 `\n",
    "    --https-only true `\n",
    "    --access-tier Hot\n",
    "\n",
    "$stgConnectionString = ( `\n",
    "    az storage account show-connection-string `\n",
    "        --name $stgName `\n",
    "        --resource-group $resourceGroup `\n",
    "        --query connectionString `\n",
    "        --output tsv `\n",
    ")"
   ]
  },
  {
   "cell_type": "markdown",
   "metadata": {},
   "source": [
    "## Step 9: Create application.env file"
   ]
  },
  {
   "cell_type": "code",
   "execution_count": 11,
   "metadata": {
    "dotnet_interactive": {
     "language": "pwsh"
    },
    "polyglot_notebook": {
     "kernelName": "pwsh"
    },
    "vscode": {
     "languageId": "polyglot-notebook"
    }
   },
   "outputs": [
    {
     "name": "stdout",
     "output_type": "stream",
     "text": [
      "\n",
      "    Directory: \n",
      "C:\\Sourcen\\GitHubProjects\\OpenAI.OneDayWorkshop\\01_CreateEnvironment\\..\\Configuration\n",
      "\n",
      "\u001b[32;1mMode   \u001b[0m\u001b[32;1m              LastWriteTime\u001b[0m\u001b[32;1m         Length\u001b[0m\u001b[32;1m Name\u001b[0m\n",
      "\u001b[32;1m----   \u001b[0m \u001b[32;1m             -------------\u001b[0m \u001b[32;1m        ------\u001b[0m \u001b[32;1m----\u001b[0m\n",
      "-a---           2/25/2025  8:42 AM              0 application.env\n",
      "Configuration file created at: ../Configuration/application.env\n",
      "\n"
     ]
    }
   ],
   "source": [
    "# Store configuration \n",
    "$configurationFile = \"../Configuration/application.env\"\n",
    "New-Item -Name $configurationFile -ItemType File -Force\n",
    "\n",
    "\n",
    "function Set-ConfigurationFileVariable($configurationFile, $variableName, $variableValue) {\n",
    "    if (Select-String -Path $configurationFile -Pattern $variableName) {\n",
    "        (Get-Content $configurationFile) | Foreach-Object {\n",
    "            $_ -replace \"$variableName = .*\", \"$variableName = $variableValue\"\n",
    "        } | Set-Content $configurationFile\n",
    "    } else {\n",
    "        Add-Content -Path $configurationFile -value \"$variableName = $variableValue\"\n",
    "    }\n",
    "}\n",
    "\n",
    "Set-ConfigurationFileVariable $configurationFile \"WS_AOAI_APIKEY\" $csOpenAIApiKey\n",
    "Set-ConfigurationFileVariable $configurationFile \"WS_AOAI_ENDPOINT\" $csOpenAIEndpoint\n",
    "Set-ConfigurationFileVariable $configurationFile \"WS_CHATCOMPLETION_DEPLOYMENTNAME\" $modelChatCompletionDeploymentName\n",
    "Set-ConfigurationFileVariable $configurationFile \"WS_EMBEDDING_DEPLOYMENTNAME\" $modelEmbeddingDeploymentName\n",
    "Set-ConfigurationFileVariable $configurationFile \"WS_IMAGE_DEPLOYMENTNAME\" $modelImageDeploymentName\n",
    "Set-ConfigurationFileVariable $configurationFile \"WS_VISION_APIKEY\" $csVisionApiKey\n",
    "Set-ConfigurationFileVariable $configurationFile \"WS_VISION_ENDPOINT\" $csVisionEndpoint\n",
    "Set-ConfigurationFileVariable $configurationFile \"WS_STORAGE_CONNECTIONSTRING\" $stgConnectionString\n",
    "Set-ConfigurationFileVariable $configurationFile \"WS_SEARCH_ENDPOINT\" $csSearchEndpoint\n",
    "Set-ConfigurationFileVariable $configurationFile \"WS_SEARCH_APIKEY\" $csSearchApiKey\n",
    "Set-ConfigurationFileVariable $configurationFile \"WS_ASSETS_FOLDER\" \"../../assets\"\n",
    "\n",
    "\n",
    "Write-Host \"Configuration file created at: $configurationFile\"\n"
   ]
  }
 ],
 "metadata": {
  "kernelspec": {
   "display_name": ".NET (C#)",
   "language": "C#",
   "name": ".net-csharp"
  },
  "language_info": {
   "codemirror_mode": {
    "name": "ipython",
    "version": 3
   },
   "file_extension": ".py",
   "mimetype": "text/x-python",
   "name": "python",
   "nbconvert_exporter": "python",
   "pygments_lexer": "ipython3",
   "version": "3.10.11"
  },
  "polyglot_notebook": {
   "kernelInfo": {
    "defaultKernelName": "csharp",
    "items": [
     {
      "aliases": [],
      "languageName": "csharp",
      "name": "csharp"
     }
    ]
   }
  }
 },
 "nbformat": 4,
 "nbformat_minor": 2
}
