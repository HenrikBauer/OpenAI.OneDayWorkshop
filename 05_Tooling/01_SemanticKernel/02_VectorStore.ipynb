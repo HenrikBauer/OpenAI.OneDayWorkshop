{
 "cells": [
  {
   "cell_type": "markdown",
   "metadata": {},
   "source": [
    "# 05 Tooling | 01 Semantic Kernel | 02 Vector Store\n",
    "\n",
    "## Azure Environment\n",
    "\n",
    "Necessary parameter are imported from [./Configuration/application.env]. Check [Create Environment](../../01_CreateEnvironment/01_Environment.ipynb) to setup the necessary demo environment.\n",
    "\n",
    "This notebooks highlights how Semantic Kernel simplifies the process of storing and retrieving vector data. \n",
    "\n",
    "## Step 1: Create Semantic Kernel\n",
    "\n",
    "MS Semantic Kernel is a tool or library developed by Microsoft to abstract away communication with LLMs and other services like vector DBs. The nuget package Microsoft.SemanticKernel provides developers with access to this powerful tool, allowing them to integrate advanced language processing capabilities into their applications effortlessly.\n"
   ]
  },
  {
   "cell_type": "code",
   "execution_count": null,
   "metadata": {
    "dotnet_interactive": {
     "language": "csharp"
    },
    "polyglot_notebook": {
     "kernelName": "csharp"
    }
   },
   "outputs": [],
   "source": [
    "#pragma warning disable SKEXP0001, SKEXP0010 \n",
    "\n",
    "#r \"nuget: Microsoft.SemanticKernel, 1.38.0\"\n",
    "#r \"nuget: Microsoft.SemanticKernel.Connectors.InMemory, 1.38.0-preview\"\n",
    "#r \"nuget: DotNetEnv, 3.1.1\"\n",
    "\n",
    "using System.IO;\n",
    "using System.ClientModel;\n",
    "using System.ComponentModel;\n",
    "using DotNetEnv;\n",
    "using Microsoft.Extensions.VectorData;\n",
    "using Microsoft.SemanticKernel;\n",
    "using Microsoft.SemanticKernel.Data;\n",
    "using Microsoft.SemanticKernel.Embeddings;\n",
    "using Microsoft.SemanticKernel.Connectors.InMemory;\n",
    "\n",
    "//configuration file is created during environment creation\n",
    "static string _configurationFile = @\"../../Configuration/application.env\";\n",
    "Env.Load(_configurationFile);\n",
    "\n",
    "string oAiApiKey = Environment.GetEnvironmentVariable(\"WS_AOAI_APIKEY\") ?? \"WS_AOAI_APIKEY not found\";\n",
    "string oAiEndpoint = Environment.GetEnvironmentVariable(\"WS_AOAI_ENDPOINT\") ?? \"WS_AOAI_ENDPOINT not found\";\n",
    "string chatCompletionDeploymentName = Environment.GetEnvironmentVariable(\"WS_CHATCOMPLETION_DEPLOYMENTNAME\") ?? \"WS_CHATCOMPLETION_DEPLOYMENTNAME not found\";\n",
    "string embeddingDeploymentName = Environment.GetEnvironmentVariable(\"WS_EMBEDDING_DEPLOYMENTNAME\") ?? \"WS_EMBEDDING_DEPLOYMENTNAME not found\";\n",
    "string assetFolder = Environment.GetEnvironmentVariable(\"WS_ASSETS_FOLDER\") ?? \"WS_ASSETS_FOLDER not found\";  \n",
    "\n",
    "\n",
    "Kernel kernel = Kernel.CreateBuilder()\n",
    "    .AddAzureOpenAITextEmbeddingGeneration(\n",
    "        apiKey: oAiApiKey, \n",
    "        endpoint: oAiEndpoint, \n",
    "        deploymentName: embeddingDeploymentName\n",
    "    )\n",
    ".Build();\n",
    "Console.WriteLine($\"Semantic Kernel created...\");\n"
   ]
  },
  {
   "cell_type": "markdown",
   "metadata": {},
   "source": [
    "## Step 2: Define Storage Model\n",
    "\n",
    "Semantic Kernel offers an abstraction of creating embeddings and storing/querying them in connected vector databases.\n",
    "\n",
    "A data model can be used to store and query data.\n"
   ]
  },
  {
   "cell_type": "code",
   "execution_count": null,
   "metadata": {
    "dotnet_interactive": {
     "language": "csharp"
    },
    "polyglot_notebook": {
     "kernelName": "csharp"
    }
   },
   "outputs": [],
   "source": [
    "public sealed class DataStorageModel\n",
    "{\n",
    "    #pragma warning disable SKEXP0001\n",
    "    [VectorStoreRecordKey]\n",
    "    [TextSearchResultName]\n",
    "    public Guid Key { get; init; }\n",
    "\n",
    "    [VectorStoreRecordData]\n",
    "    [TextSearchResultValue]\n",
    "    public string Text { get; init; } = \"Empty Record - No Data\"; \n",
    "\n",
    "    [VectorStoreRecordVector(3072)]\n",
    "    public ReadOnlyMemory<float> Embedding { get; init; }\n",
    "    \n",
    "    [TextSearchResultLink]\n",
    "    public string Link {get; set;} = \"\";\n",
    "    #pragma warning restore SKEXP0001\n",
    "}\n",
    "\n",
    "Console.WriteLine($\"DataStorageModel defined...\");"
   ]
  },
  {
   "cell_type": "markdown",
   "metadata": {},
   "source": [
    "## Step 3: Create Embeddings\n",
    "\n",
    "Information provided in text files will be embedded for further storage and querying."
   ]
  },
  {
   "cell_type": "code",
   "execution_count": null,
   "metadata": {
    "dotnet_interactive": {
     "language": "csharp"
    },
    "polyglot_notebook": {
     "kernelName": "csharp"
    }
   },
   "outputs": [],
   "source": [
    "using System.IO; \n",
    "\n",
    "#pragma warning disable SKEXP0001, SKEXP0010 \n",
    "\n",
    "ITextEmbeddingGenerationService textEmbeddingGenerationService = kernel.GetRequiredService<ITextEmbeddingGenerationService>();\n",
    "\n",
    "List<string> knowledge = new List<string>(); \n",
    "knowledge.Add(await File.ReadAllTextAsync(Path.Combine(assetFolder, \"Embedding\", \"WikiAks.txt\")));\n",
    "knowledge.Add(await File.ReadAllTextAsync(Path.Combine(assetFolder, \"Embedding\", \"WikiSuperBowl2024.txt\")));\n",
    "knowledge.Add(\"The Kansas City Chiefs won the Super Bowl 2024!\");\n",
    "\n",
    "IList<ReadOnlyMemory<float>> vectorData = \n",
    "    await textEmbeddingGenerationService.GenerateEmbeddingsAsync(knowledge);\n",
    "\n",
    "Console.WriteLine($\"Embeddings generated...\")"
   ]
  },
  {
   "cell_type": "markdown",
   "metadata": {},
   "source": [
    "## Step 4: Create Vector Store\n",
    "\n",
    "The code cell adds specific information or knowledge to a vector store abstraction. In this sample an instance of `InMemoryVectorStore()` is used and knowledge `List<string> knowledge` is transferred to the StorageModel and uploaded to the vector store."
   ]
  },
  {
   "cell_type": "code",
   "execution_count": null,
   "metadata": {
    "dotnet_interactive": {
     "language": "csharp"
    },
    "polyglot_notebook": {
     "kernelName": "csharp"
    }
   },
   "outputs": [],
   "source": [
    "using System.IO; \n",
    "\n",
    "#pragma warning disable SKEXP0001, SKEXP0010 \n",
    "\n",
    "InMemoryVectorStore inMemoryStore = new InMemoryVectorStore();\n",
    "string collectionName = \"knowledgebase\";\n",
    "\n",
    "IVectorStoreRecordCollection<Guid, DataStorageModel> recordCollection = \n",
    "    inMemoryStore.GetCollection<Guid, DataStorageModel>(collectionName);\n",
    "await recordCollection.CreateCollectionIfNotExistsAsync();\n",
    "\n",
    "List<DataStorageModel> dataStorageRecords = knowledge\n",
    "    .Select((text, index) => \n",
    "    {\n",
    "        var key = Guid.NewGuid();\n",
    "        return new DataStorageModel\n",
    "        {\n",
    "            Key = key,\n",
    "            Text = text,\n",
    "            Embedding = vectorData[index],\n",
    "            Link = $\"data:citation/text;{key}\"\n",
    "        };\n",
    "    })\n",
    "    .ToList();\n",
    "\n",
    "Console.WriteLine($\"DataStorageRecords created: \");\n",
    "await foreach(Guid recordGuid in recordCollection.UpsertBatchAsync(dataStorageRecords))\n",
    "{\n",
    "    Console.WriteLine($\"\\t{recordGuid}\");\n",
    "} "
   ]
  },
  {
   "cell_type": "markdown",
   "metadata": {},
   "source": [
    "## Step 4: Query Memory Store\n",
    "\n",
    "The code cell uses the `VectorizedSearchAsync()` function to query the vector store. "
   ]
  },
  {
   "cell_type": "code",
   "execution_count": null,
   "metadata": {
    "dotnet_interactive": {
     "language": "csharp"
    },
    "polyglot_notebook": {
     "kernelName": "csharp"
    }
   },
   "outputs": [],
   "source": [
    "IList<ReadOnlyMemory<float>> searchVector = await textEmbeddingGenerationService.GenerateEmbeddingsAsync(new string[] { \n",
    "    \"What is the Super Sports Championship\"\n",
    "});\n",
    "\n",
    "VectorSearchOptions vectorSearchOptions = new VectorSearchOptions(){ \n",
    "    Top = 2\n",
    "};\n",
    "\n",
    "VectorSearchResults<DataStorageModel> vectorSearchResult = await recordCollection.VectorizedSearchAsync(\n",
    "    searchVector[0],\n",
    "    vectorSearchOptions\n",
    ");\n",
    "\n",
    "//List<VectorSearchResult<DataStorageModel>> resultsList = vectorSearchResult.Results.GetAsyncEnumerator();\n",
    "IAsyncEnumerator<VectorSearchResult<DataStorageModel>> resultsList = vectorSearchResult.Results.GetAsyncEnumerator();\n",
    "while (await resultsList.MoveNextAsync())\n",
    "{\n",
    "    Console.WriteLine($\"Score: {resultsList.Current.Score} \\nText: {resultsList.Current.Record.Text.Substring(0,10)}... \\nCitation: {resultsList.Current.Record.Link} \\n\");\n",
    "}\n",
    "\n",
    "Console.WriteLine($\"Search completed...\");"
   ]
  }
 ],
 "metadata": {
  "kernelspec": {
   "display_name": ".NET (C#)",
   "language": "C#",
   "name": ".net-csharp"
  },
  "language_info": {
   "name": "polyglot-notebook"
  },
  "polyglot_notebook": {
   "kernelInfo": {
    "defaultKernelName": "csharp",
    "items": [
     {
      "aliases": [],
      "languageName": "csharp",
      "name": "csharp"
     }
    ]
   }
  }
 },
 "nbformat": 4,
 "nbformat_minor": 2
}
