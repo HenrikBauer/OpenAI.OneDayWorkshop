{
 "cells": [
  {
   "cell_type": "markdown",
   "metadata": {},
   "source": [
    "# 05 Tooling | 01 Semantic Kernel | 02 Vector Store\n",
    "\n",
    "## Azure Environment\n",
    "\n",
    "Necessary parameter are imported from [./Configuration/application.env]. Check [Create Environment](../../01_CreateEnvironment/01_Environment.ipynb) to setup the necessary demo environment.\n",
    "\n",
    "This notebooks highlights how Semantic Kernel simplifies the process of storing and retrieving vector data. \n",
    "\n",
    "## Step 1: Create Semantic Kernel\n",
    "\n",
    "MS Semantic Kernel is a tool or library developed by Microsoft to abstract away communication with LLMs and other services like vector DBs. The nuget package Microsoft.SemanticKernel provides developers with access to this powerful tool, allowing them to integrate advanced language processing capabilities into their applications effortlessly.\n"
   ]
  },
  {
   "cell_type": "code",
   "execution_count": 1,
   "metadata": {
    "dotnet_interactive": {
     "language": "csharp"
    },
    "polyglot_notebook": {
     "kernelName": "csharp"
    }
   },
   "outputs": [
    {
     "data": {
      "text/html": [
       "<div><div></div><div></div><div><strong>Installed Packages</strong><ul><li><span>DotNetEnv, 3.1.1</span></li><li><span>Microsoft.Extensions.VectorData.Abstractions, 9.0.0-preview.1.25229.1</span></li><li><span>Microsoft.SemanticKernel, 1.48.0</span></li><li><span>Microsoft.SemanticKernel.Connectors.InMemory, 1.48.0-preview</span></li></ul></div></div>"
      ]
     },
     "metadata": {},
     "output_type": "display_data"
    },
    {
     "name": "stdout",
     "output_type": "stream",
     "text": [
      "Semantic Kernel created...\r\n"
     ]
    }
   ],
   "source": [
    "#pragma warning disable SKEXP0001, SKEXP0010 \n",
    "\n",
    "#r \"nuget: Microsoft.SemanticKernel, 1.48.0\"\n",
    "#r \"nuget: Microsoft.SemanticKernel.Connectors.InMemory, 1.48.0-preview\"\n",
    "#r \"nuget: Microsoft.Extensions.VectorData.Abstractions, 9.0.0-preview.1.25229.1\"\n",
    "#r \"nuget: DotNetEnv, 3.1.1\"\n",
    "\n",
    "using System.IO;\n",
    "using System.ClientModel;\n",
    "using System.ComponentModel;\n",
    "using DotNetEnv;\n",
    "using Microsoft.Extensions.VectorData;\n",
    "using Microsoft.SemanticKernel;\n",
    "using Microsoft.SemanticKernel.Data;\n",
    "using Microsoft.SemanticKernel.Embeddings;\n",
    "using Microsoft.SemanticKernel.Connectors.InMemory;\n",
    "\n",
    "//configuration file is created during environment creation\n",
    "static string _configurationFile = @\"../../Configuration/application.env\";\n",
    "Env.Load(_configurationFile);\n",
    "\n",
    "string oAiApiKey = Environment.GetEnvironmentVariable(\"WS_AOAI_APIKEY\") ?? \"WS_AOAI_APIKEY not found\";\n",
    "string oAiEndpoint = Environment.GetEnvironmentVariable(\"WS_AOAI_ENDPOINT\") ?? \"WS_AOAI_ENDPOINT not found\";\n",
    "string chatCompletionDeploymentName = Environment.GetEnvironmentVariable(\"WS_CHATCOMPLETION_DEPLOYMENTNAME\") ?? \"WS_CHATCOMPLETION_DEPLOYMENTNAME not found\";\n",
    "string embeddingDeploymentName = Environment.GetEnvironmentVariable(\"WS_EMBEDDING_DEPLOYMENTNAME\") ?? \"WS_EMBEDDING_DEPLOYMENTNAME not found\";\n",
    "string assetFolder = Environment.GetEnvironmentVariable(\"WS_ASSETS_FOLDER\") ?? \"WS_ASSETS_FOLDER not found\";  \n",
    "\n",
    "\n",
    "Kernel kernel = Kernel.CreateBuilder()\n",
    "    .AddAzureOpenAITextEmbeddingGeneration(\n",
    "        apiKey: oAiApiKey, \n",
    "        endpoint: oAiEndpoint, \n",
    "        deploymentName: embeddingDeploymentName\n",
    "    )\n",
    ".Build();\n",
    "Console.WriteLine($\"Semantic Kernel created...\");\n"
   ]
  },
  {
   "cell_type": "markdown",
   "metadata": {},
   "source": [
    "## Step 2: Define Storage Model\n",
    "\n",
    "Semantic Kernel offers an abstraction of creating embeddings and storing/querying them in connected vector databases.\n",
    "\n",
    "A data model can be used to store and query data.\n"
   ]
  },
  {
   "cell_type": "code",
   "execution_count": 2,
   "metadata": {
    "dotnet_interactive": {
     "language": "csharp"
    },
    "polyglot_notebook": {
     "kernelName": "csharp"
    }
   },
   "outputs": [
    {
     "name": "stdout",
     "output_type": "stream",
     "text": [
      "DataStorageModel defined...\r\n"
     ]
    }
   ],
   "source": [
    "public sealed class DataStorageModel\n",
    "{\n",
    "    #pragma warning disable SKEXP0001\n",
    "    [VectorStoreRecordKey]\n",
    "    [TextSearchResultName]\n",
    "    public Guid Key { get; init; }\n",
    "\n",
    "    [VectorStoreRecordData]\n",
    "    [TextSearchResultValue]\n",
    "    public string Text { get; init; } = \"Empty Record - No Data\"; \n",
    "\n",
    "    [VectorStoreRecordVector(3072)]\n",
    "    public ReadOnlyMemory<float> Embedding { get; init; }\n",
    "    \n",
    "    [TextSearchResultLink]\n",
    "    public string Link {get; set;} = \"\";\n",
    "    #pragma warning restore SKEXP0001\n",
    "}\n",
    "\n",
    "Console.WriteLine($\"DataStorageModel defined...\");"
   ]
  },
  {
   "cell_type": "markdown",
   "metadata": {},
   "source": [
    "## Step 3: Create Embeddings\n",
    "\n",
    "Information provided in text files will be embedded for further storage and querying."
   ]
  },
  {
   "cell_type": "code",
   "execution_count": 3,
   "metadata": {
    "dotnet_interactive": {
     "language": "csharp"
    },
    "polyglot_notebook": {
     "kernelName": "csharp"
    }
   },
   "outputs": [
    {
     "name": "stdout",
     "output_type": "stream",
     "text": [
      "Embeddings generated...\r\n"
     ]
    }
   ],
   "source": [
    "using System.IO; \n",
    "\n",
    "#pragma warning disable SKEXP0001, SKEXP0010 \n",
    "\n",
    "ITextEmbeddingGenerationService textEmbeddingGenerationService = kernel.GetRequiredService<ITextEmbeddingGenerationService>();\n",
    "\n",
    "List<string> knowledge = new List<string>(); \n",
    "knowledge.Add(await File.ReadAllTextAsync(Path.Combine(assetFolder, \"Embedding\", \"WikiAks.txt\")));\n",
    "knowledge.Add(await File.ReadAllTextAsync(Path.Combine(assetFolder, \"Embedding\", \"WikiSuperBowl2024.txt\")));\n",
    "knowledge.Add(\"The Kansas City Chiefs won the Super Bowl 2024!\");\n",
    "\n",
    "IList<ReadOnlyMemory<float>> vectorData = \n",
    "    await textEmbeddingGenerationService.GenerateEmbeddingsAsync(knowledge);\n",
    "\n",
    "Console.WriteLine($\"Embeddings generated...\")"
   ]
  },
  {
   "cell_type": "markdown",
   "metadata": {},
   "source": [
    "## Step 4: Create Vector Store\n",
    "\n",
    "The code cell adds specific information or knowledge to a vector store abstraction. In this sample an instance of `InMemoryVectorStore()` is used and knowledge `List<string> knowledge` is transferred to the StorageModel and uploaded to the vector store."
   ]
  },
  {
   "cell_type": "code",
   "execution_count": 4,
   "metadata": {
    "dotnet_interactive": {
     "language": "csharp"
    },
    "polyglot_notebook": {
     "kernelName": "csharp"
    }
   },
   "outputs": [
    {
     "name": "stdout",
     "output_type": "stream",
     "text": [
      "DataStorageRecords created: \n",
      "\t192a507e-4744-4e03-a771-14be13644ace\n",
      "\t51eae057-6192-4607-a523-2146d86312df\n",
      "\t14fa68d6-54c7-4948-b64c-a6d3dec6d087\n",
      "All records stored in vector store...\n"
     ]
    }
   ],
   "source": [
    "using System.IO; \n",
    "\n",
    "#pragma warning disable SKEXP0001, SKEXP0010 \n",
    "\n",
    "InMemoryVectorStore inMemoryStore = new InMemoryVectorStore();\n",
    "string collectionName = \"knowledgebase\";\n",
    "\n",
    "IVectorStoreRecordCollection<Guid, DataStorageModel> recordCollection = \n",
    "    inMemoryStore.GetCollection<Guid, DataStorageModel>(collectionName);\n",
    "await recordCollection.CreateCollectionIfNotExistsAsync();\n",
    "\n",
    "List<DataStorageModel> dataStorageRecords = knowledge\n",
    "    .Select((text, index) => \n",
    "    {\n",
    "        var key = Guid.NewGuid();\n",
    "        return new DataStorageModel\n",
    "        {\n",
    "            Key = key,\n",
    "            Text = text,\n",
    "            Embedding = vectorData[index],\n",
    "            Link = $\"data:citation/text;{key}\"\n",
    "        };\n",
    "    })\n",
    "    .ToList();\n",
    "\n",
    "Console.WriteLine($\"DataStorageRecords created: \");\n",
    "foreach (DataStorageModel dataStorageModel in dataStorageRecords)\n",
    "{\n",
    "    await recordCollection.UpsertAsync(dataStorageModel);\n",
    "    Console.WriteLine($\"\\t{dataStorageModel.Key}\");\n",
    "}\n",
    "\n",
    "Console.WriteLine($\"All records stored in vector store...\"); "
   ]
  },
  {
   "cell_type": "markdown",
   "metadata": {},
   "source": [
    "## Step 4: Query Memory Store\n",
    "\n",
    "The code cell uses the `VectorizedSearchAsync()` function to query the vector store. "
   ]
  },
  {
   "cell_type": "code",
   "execution_count": 5,
   "metadata": {
    "dotnet_interactive": {
     "language": "csharp"
    },
    "polyglot_notebook": {
     "kernelName": "csharp"
    }
   },
   "outputs": [
    {
     "name": "stdout",
     "output_type": "stream",
     "text": [
      "Score: 0.7757171988487244 \n",
      "Text: Super Bowl... \n",
      "Citation: data:citation/text;51eae057-6192-4607-a523-2146d86312df \n",
      "\n",
      "Score: 0.7739335894584656 \n",
      "Text: The Kansas... \n",
      "Citation: data:citation/text;14fa68d6-54c7-4948-b64c-a6d3dec6d087 \n",
      "\n",
      "Search completed...\n"
     ]
    }
   ],
   "source": [
    "using Microsoft.Extensions.VectorData; \n",
    "\n",
    "ReadOnlyMemory<float> searchVector = await textEmbeddingGenerationService.GenerateEmbeddingAsync(\n",
    "    \"What is the Super Sports Championship\");\n",
    "\n",
    "IAsyncEnumerable<VectorSearchResult<DataStorageModel>> searchResults = recordCollection.SearchEmbeddingAsync<ReadOnlyMemory<float>>(\n",
    "    vector: searchVector, \n",
    "    top: 2\n",
    ");\n",
    "\n",
    "await foreach (VectorSearchResult<DataStorageModel> result in searchResults)\n",
    "{\n",
    "        \n",
    "    Console.WriteLine($\"Score: {result.Score} \\nText: {result.Record.Text.Substring(0, 10)}... \\nCitation: {result.Record.Link} \\n\");\n",
    "}\n",
    "\n",
    "Console.WriteLine($\"Search completed...\");"
   ]
  }
 ],
 "metadata": {
  "kernelspec": {
   "display_name": ".NET (C#)",
   "language": "C#",
   "name": ".net-csharp"
  },
  "language_info": {
   "name": "polyglot-notebook"
  },
  "polyglot_notebook": {
   "kernelInfo": {
    "defaultKernelName": "csharp",
    "items": [
     {
      "aliases": [],
      "languageName": "csharp",
      "name": "csharp"
     }
    ]
   }
  }
 },
 "nbformat": 4,
 "nbformat_minor": 2
}
