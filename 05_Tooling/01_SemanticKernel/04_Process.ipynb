{
 "cells": [
  {
   "cell_type": "markdown",
   "metadata": {},
   "source": [
    "# 05 Tooling | 01 Semantic Kernel | 04 - Process\n",
    "\n",
    "## Step 1: Azure Environment\n",
    "\n",
    "Necessary parameter are imported from [./Configuration/application.env]. Check [Create Environment](../../01_CreateEnvironment/01_Environment.ipynb) to setup the necessary demo environment.\n",
    "\n",
    "This notebooks highlights how Semantic Kernel simplifies the process of storing and retrieving vector data. \n"
   ]
  },
  {
   "cell_type": "code",
   "execution_count": 1,
   "metadata": {
    "dotnet_interactive": {
     "language": "csharp"
    },
    "polyglot_notebook": {
     "kernelName": "csharp"
    }
   },
   "outputs": [
    {
     "data": {
      "text/html": [
       "<div><div></div><div></div><div><strong>Installed Packages</strong><ul><li><span>DotNetEnv, 3.1.1</span></li><li><span>Microsoft.SemanticKernel, 1.48.0</span></li><li><span>Microsoft.SemanticKernel.Process.Core, 1.48.0-alpha</span></li><li><span>Microsoft.SemanticKernel.Process.LocalRuntime, 1.48.0-alpha</span></li></ul></div></div>"
      ]
     },
     "metadata": {},
     "output_type": "display_data"
    },
    {
     "name": "stdout",
     "output_type": "stream",
     "text": [
      "Configuration loaded...\r\n"
     ]
    }
   ],
   "source": [
    "#r \"nuget: Microsoft.SemanticKernel, 1.48.0\"\n",
    "#r \"nuget: Microsoft.SemanticKernel.Process.Core, 1.48.0-alpha\"\n",
    "#r \"nuget: Microsoft.SemanticKernel.Process.LocalRuntime, 1.48.0-alpha\"\n",
    "#r \"nuget: DotNetEnv, 3.1.1\"\n",
    "\n",
    "using System.ClientModel; \n",
    "using System.ComponentModel;\n",
    "using Microsoft.SemanticKernel;\n",
    "using Microsoft.SemanticKernel.Process;\n",
    "using DotNetEnv;\n",
    "\n",
    "string configurationFile = \"../../Configuration/application.env\";\n",
    "Env.Load(configurationFile);\n",
    "\n",
    "string oAiApiKey = Environment.GetEnvironmentVariable(\"WS_AOAI_APIKEY\") ?? \"WS_AOAI_APIKEY not found\";\n",
    "string oAiEndpoint = Environment.GetEnvironmentVariable(\"WS_AOAI_ENDPOINT\") ?? \"WS_AOAI_ENDPOINT not found\";\n",
    "string chatCompletionDeploymentName = Environment.GetEnvironmentVariable(\"WS_CHATCOMPLETION_DEPLOYMENTNAME\") ?? \"WS_CHATCOMPLETION_DEPLOYMENTNAME not found\";\n",
    "\n",
    "\n",
    "Console.WriteLine($\"Configuration loaded...\");"
   ]
  },
  {
   "cell_type": "markdown",
   "metadata": {},
   "source": [
    "## Step 2: Define Process Step Functionality\n",
    "\n",
    "Semantic Kernel can orchestrate execution of specific process steps. Those steps are defined here. Within the sample a simplified sport event result prediction is provided. Therefore three process steps are defined:\n",
    "\n",
    "- `QueryDataSources()`: Simulates the retrieval process of historical information. The historical data will be created using a model call.\n",
    "- `CheckHistoricalInformation()`: A simulated check if the retrieved historical information is valid. \n",
    "- `PredictResult()`: A prediction of a future score\n"
   ]
  },
  {
   "cell_type": "code",
   "execution_count": 2,
   "metadata": {
    "dotnet_interactive": {
     "language": "csharp"
    },
    "polyglot_notebook": {
     "kernelName": "csharp"
    }
   },
   "outputs": [
    {
     "name": "stdout",
     "output_type": "stream",
     "text": [
      "'RetriveHistoricalInformation' defined...\r\n"
     ]
    }
   ],
   "source": [
    "#pragma warning disable SKEXP0080\n",
    "\n",
    "public class RetrieveHistoricalInformation: KernelProcessStep\n",
    "{\n",
    "    [KernelFunction]\n",
    "    public async Task<string> QueryDataSources(Kernel kernel, string teamName)\n",
    "    {\n",
    "        //Using a llm to generate fictional data - Other plugins could be used to query real data\n",
    "        Console.WriteLine($\"\\nRetrieve Historical Information\");\n",
    "        Console.WriteLine($\"\\t Collecting historical information for: {teamName}\");\n",
    "\n",
    "        string prompt = @\"\n",
    "            You create fictional results for the last 10 matches of the {{$teamName}}.\n",
    "            You response with one line per match.\n",
    "            You just provide the score.\n",
    "            You don't provide the team name as part of the result of a match.\n",
    "            The scores should be between 15 and 50.\n",
    "            The scores should be separated by a colon.\n",
    "\n",
    "            Create fictional results!\n",
    "        \";\n",
    "\n",
    "        KernelArguments kernelArguments = new KernelArguments() { \n",
    "            [\"teamName\"] = teamName\n",
    "        };\n",
    "\n",
    "        FunctionResult functionResult = await kernel.InvokePromptAsync(prompt, kernelArguments);\n",
    "        string response = functionResult.GetValue<string>() ?? \"\";\n",
    "        Console.WriteLine($\"\\t Historical information retrieved...\");\n",
    "        return response;\n",
    "    }\n",
    "}\n",
    "\n",
    "\n",
    "Console.WriteLine($\"'RetriveHistoricalInformation' defined...\");"
   ]
  },
  {
   "cell_type": "code",
   "execution_count": 3,
   "metadata": {
    "dotnet_interactive": {
     "language": "csharp"
    },
    "polyglot_notebook": {
     "kernelName": "csharp"
    }
   },
   "outputs": [
    {
     "name": "stdout",
     "output_type": "stream",
     "text": [
      "'CheckHistoricalInformation' defined...\r\n"
     ]
    }
   ],
   "source": [
    "#pragma warning disable SKEXP0080\n",
    "\n",
    "public class CheckHistoricalInformation: KernelProcessStep\n",
    "{\n",
    "    [KernelFunction]\n",
    "    public async Task PerformCheck(Kernel kernel, KernelProcessStepContext context, string historicalData)\n",
    "    {\n",
    "        //Simulating a check of the historical data\n",
    "        Console.WriteLine($\"\\nCheck historical information\");\n",
    "        Console.WriteLine($\"\\tCheck historical information: \\n\\t {historicalData.Replace(\"\\n\", \"\\n\\t\")}\");\n",
    "\n",
    "        //Generate random number between 0 and 2 to simulate check of historical data\n",
    "        Random random = new Random(DateTime.Now.Millisecond);\n",
    "        long randomNumber = random.Next(0, 3);\n",
    "        \n",
    "        if (randomNumber > 1 )\n",
    "        {\n",
    "            Console.WriteLine($\"\\t Check failed: Recreating historical data\");\n",
    "            await context.EmitEventAsync(\n",
    "                eventId: \"RecreateHistoricalData\", \n",
    "                data: historicalData\n",
    "            );\n",
    "        }\n",
    "        else\n",
    "        {\n",
    "            Console.WriteLine($\"\\t Check passed: Using historical data\");\n",
    "            await context.EmitEventAsync(\n",
    "                eventId: \"UseHistoricalData\", \n",
    "                data: historicalData\n",
    "            );\n",
    "        }\n",
    "    }\n",
    "}\n",
    "\n",
    "Console.WriteLine($\"'CheckHistoricalInformation' defined...\");\n"
   ]
  },
  {
   "cell_type": "code",
   "execution_count": 4,
   "metadata": {
    "dotnet_interactive": {
     "language": "csharp"
    },
    "polyglot_notebook": {
     "kernelName": "csharp"
    }
   },
   "outputs": [
    {
     "name": "stdout",
     "output_type": "stream",
     "text": [
      "'PredictResult' defined...\r\n"
     ]
    }
   ],
   "source": [
    "#pragma warning disable SKEXP0080\n",
    "\n",
    "public class PredictResult: KernelProcessStep\n",
    "{\n",
    "    [KernelFunction]\n",
    "    public async Task PredictResultCalculation(Kernel kernel, KernelProcessStepContext context, string historicalData)\n",
    "    {\n",
    "        //Using a llm to predict a result\n",
    "        Console.WriteLine($\"\\nPredicting Result\");\n",
    "        Console.WriteLine($\"\\tStart Predicting\");\n",
    "\n",
    "        string prompt = @\"\n",
    "            You predict the result of a sport match.\n",
    "            You get 10 previous results.\n",
    "            You just respond with one fictional result.\n",
    "            You just provide the result.\n",
    "            You don't provide any further information.\n",
    "\n",
    "            Predict the result based on this historical information: {{$historicalData}} !\n",
    "        \";\n",
    "\n",
    "        KernelArguments kernelArguments = new KernelArguments() { \n",
    "            [\"historicalData\"] = historicalData\n",
    "        };\n",
    "\n",
    "        FunctionResult functionResult = await kernel.InvokePromptAsync(prompt, kernelArguments);\n",
    "        string response = functionResult.GetValue<string>() ?? \"\";\n",
    "\n",
    "        Console.WriteLine($\"\\tPredicted Result: {response}\");\n",
    "\n",
    "    }\n",
    "}\n",
    "\n",
    "Console.WriteLine($\"'PredictResult' defined...\");"
   ]
  },
  {
   "cell_type": "markdown",
   "metadata": {},
   "source": [
    "## Step 3: Process Definition\n",
    "\n",
    "Within the code cell process steps and how they can communicate with each other are defined."
   ]
  },
  {
   "cell_type": "code",
   "execution_count": 5,
   "metadata": {
    "dotnet_interactive": {
     "language": "csharp"
    },
    "polyglot_notebook": {
     "kernelName": "csharp"
    }
   },
   "outputs": [
    {
     "name": "stdout",
     "output_type": "stream",
     "text": [
      "Process defined...\r\n"
     ]
    }
   ],
   "source": [
    "#pragma warning disable SKEXP0080\n",
    "\n",
    "ProcessBuilder processBuilder = new(\"PredictMatchWinner\");\n",
    "\n",
    "// Add the steps\n",
    "ProcessStepBuilder retrieveHistoricalInformation = processBuilder.AddStepFromType<RetrieveHistoricalInformation>();\n",
    "ProcessStepBuilder checkHistoricalInformation = processBuilder.AddStepFromType<CheckHistoricalInformation>();\n",
    "ProcessStepBuilder predictResult = processBuilder.AddStepFromType<PredictResult>();\n",
    "\n",
    "\n",
    "processBuilder\n",
    "    .OnInputEvent(\"PredictMatchResult\")\n",
    "    .SendEventTo(new (retrieveHistoricalInformation));\n",
    "\n",
    "retrieveHistoricalInformation\n",
    "    .OnFunctionResult()\n",
    "    .SendEventTo(new (checkHistoricalInformation));\n",
    "\n",
    "checkHistoricalInformation\n",
    "    .OnEvent(\"RecreateHistoricalData\")\n",
    "    .SendEventTo(new (retrieveHistoricalInformation));\n",
    "\n",
    "checkHistoricalInformation\n",
    "    .OnEvent(\"UseHistoricalData\")\n",
    "    .SendEventTo(new (predictResult));\n",
    "\n",
    "KernelProcess process = processBuilder.Build();\n",
    "\n",
    "Console.WriteLine($\"Process defined...\");\n"
   ]
  },
  {
   "cell_type": "markdown",
   "metadata": {},
   "source": [
    "## Step 4: Kernel Definition and Process Start\n",
    "\n",
    "The defined process will be executed."
   ]
  },
  {
   "cell_type": "code",
   "execution_count": 6,
   "metadata": {
    "dotnet_interactive": {
     "language": "csharp"
    },
    "polyglot_notebook": {
     "kernelName": "csharp"
    }
   },
   "outputs": [
    {
     "name": "stdout",
     "output_type": "stream",
     "text": [
      "Kernel created...\n",
      "\n",
      "Retrieve Historical Information\n",
      "\t Collecting historical information for: Munich Flying Dolphins\n",
      "\t Historical information retrieved...\n",
      "\n",
      "Check historical information\n",
      "\tCheck historical information: \n",
      "\t 35:29  \n",
      "\t41:33  \n",
      "\t28:24  \n",
      "\t47:36  \n",
      "\t30:27  \n",
      "\t38:34  \n",
      "\t45:22  \n",
      "\t33:30  \n",
      "\t24:28  \n",
      "\t49:31\n",
      "\t Check passed: Using historical data\n",
      "\n",
      "Predicting Result\n",
      "\tStart Predicting\n",
      "\tPredicted Result: 38:30\n",
      "\n",
      "Process finished...\n"
     ]
    }
   ],
   "source": [
    "#pragma warning disable SKEXP0080\n",
    "\n",
    "Kernel kernel = Kernel.CreateBuilder()\n",
    "    .AddAzureOpenAIChatCompletion(\n",
    "        apiKey: oAiApiKey, \n",
    "        endpoint: oAiEndpoint, \n",
    "        deploymentName: chatCompletionDeploymentName\n",
    "    )\n",
    "    .Build();\n",
    "\n",
    "Console.WriteLine($\"Kernel created...\");\n",
    "\n",
    "KernelProcessContext kernelProcessContext = await process.StartAsync(\n",
    "    kernel, \n",
    "    new KernelProcessEvent { \n",
    "        Id = \"PredictMatchResult\", \n",
    "        Data = \"Munich Flying Dolphins\" \n",
    "    }\n",
    ");\n",
    "Console.WriteLine($\"\\nProcess finished...\");"
   ]
  }
 ],
 "metadata": {
  "kernelspec": {
   "display_name": ".NET (C#)",
   "language": "C#",
   "name": ".net-csharp"
  },
  "polyglot_notebook": {
   "kernelInfo": {
    "defaultKernelName": "csharp",
    "items": [
     {
      "aliases": [],
      "languageName": "csharp",
      "name": "csharp"
     }
    ]
   }
  }
 },
 "nbformat": 4,
 "nbformat_minor": 2
}
