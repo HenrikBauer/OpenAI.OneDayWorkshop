{
 "cells": [
  {
   "cell_type": "markdown",
   "metadata": {},
   "source": [
    "# 05 Tooling | 01 Semantic Kernel | 03 - Agent Group Chat\n",
    "\n",
    "## Step 1: Azure Environment\n",
    "\n",
    "Necessary parameter are imported from [./Configuration/application.env]. Check [Create Environment](../../01_CreateEnvironment/01_Environment.ipynb) to setup the necessary demo environment.\n",
    "\n",
    "This notebooks highlights how Semantic Kernel simplifies the process of storing and retrieving vector data. \n"
   ]
  },
  {
   "cell_type": "code",
   "execution_count": null,
   "metadata": {
    "dotnet_interactive": {
     "language": "csharp"
    },
    "polyglot_notebook": {
     "kernelName": "csharp"
    }
   },
   "outputs": [
    {
     "data": {
      "text/html": [
       "<div><div></div><div></div><div><strong>Installed Packages</strong><ul><li><span>DotNetEnv, 3.1.1</span></li><li><span>Microsoft.SemanticKernel, 1.38.0</span></li><li><span>Microsoft.SemanticKernel.Agents.Core, 1.38.0-alpha</span></li><li><span>Microsoft.SemanticKernel.Connectors.OpenAI, 1.38.0</span></li></ul></div></div>"
      ]
     },
     "metadata": {},
     "output_type": "display_data"
    },
    {
     "name": "stdout",
     "output_type": "stream",
     "text": [
      "Configuration loaded...\r\n"
     ]
    }
   ],
   "source": [
    "#r \"nuget: Microsoft.SemanticKernel, 1.38.0\"\n",
    "#r \"nuget: Microsoft.SemanticKernel.Agents.Core, 1.38.0-alpha\"\n",
    "#r \"nuget: Microsoft.SemanticKernel.Connectors.OpenAI, 1.38.0\"\n",
    "#r \"nuget: DotNetEnv, 3.1.1\"\n",
    "\n",
    "using System.IO;\n",
    "using System.ComponentModel;\n",
    "using DotNetEnv;\n",
    "using Microsoft.SemanticKernel;\n",
    "using Microsoft.SemanticKernel.Connectors.OpenAI;\n",
    "using Microsoft.SemanticKernel.Agents;\n",
    "using Microsoft.SemanticKernel.Agents.Chat;\n",
    "using Microsoft.SemanticKernel.ChatCompletion;\n",
    "\n",
    "string configurationFile = \"../../Configuration/application.env\";\n",
    "Env.Load(configurationFile);\n",
    "\n",
    "string oAiApiKey = Environment.GetEnvironmentVariable(\"WS_AOAI_APIKEY\") ?? \"WS_AOAI_APIKEY not found\";\n",
    "string oAiEndpoint = Environment.GetEnvironmentVariable(\"WS_AOAI_ENDPOINT\") ?? \"WS_AOAI_ENDPOINT not found\";\n",
    "string chatCompletionDeploymentName = Environment.GetEnvironmentVariable(\"WS_CHATCOMPLETION_DEPLOYMENTNAME\") ?? \"WS_CHATCOMPLETION_DEPLOYMENTNAME not found\";\n",
    "\n",
    "\n",
    "Console.WriteLine($\"Configuration loaded...\");"
   ]
  },
  {
   "cell_type": "markdown",
   "metadata": {},
   "source": [
    "## Step 2: Plugin Definition\n",
    "\n",
    "The agent chat will use Semantic Kernel plugins to access simulated private data"
   ]
  },
  {
   "cell_type": "code",
   "execution_count": null,
   "metadata": {
    "dotnet_interactive": {
     "language": "csharp"
    },
    "polyglot_notebook": {
     "kernelName": "csharp"
    }
   },
   "outputs": [
    {
     "name": "stdout",
     "output_type": "stream",
     "text": [
      "Plugins defined...\r\n"
     ]
    }
   ],
   "source": [
    "public class RetrieveWinner\n",
    "{\n",
    "    [KernelFunction(\"get_sport_event_winner\")]\n",
    "    //Description is just necessary if function name is not self-explanatory\n",
    "    [Description(\"Get the winner of a sport event. The event is identified by the sport event name and the year.\")]\n",
    "    public string GetSportEventWinner(string sportEventName = \"\", string sportEventYear = \"\")\n",
    "    {\n",
    "        // Implement the logic to get the winner of the sport event.\n",
    "        return \"Kansas City Chiefs\";\n",
    "    }\n",
    "}\n",
    "\n",
    "public class RetrieveScore\n",
    "{\n",
    "    [KernelFunction(\"get_sport_event_score\")]\n",
    "    //Description is just necessary if function name is cryptic and not self-explanatory\n",
    "    [Description(\"Get the score of a specific sport event. The event is identified by the sport event name and the year.\")]\n",
    "    public string GetSportEventScore(string sportEventName = \"\", string sportEventYear = \"\")\n",
    "    {\n",
    "        // Implement the logic to get the result of the sport event.\n",
    "        return \"25:22\";\n",
    "    }\n",
    "}\n",
    "\n",
    "Console.WriteLine($\"Plugins defined...\")"
   ]
  },
  {
   "cell_type": "markdown",
   "metadata": {},
   "source": [
    "## Step 3: Agent Definition\n",
    "\n",
    "Two agents who will communicate to solve a specific task are created:\n",
    "\n",
    "- RetrieveWinner agent: tasked to retrieve the winner of a sport event\n",
    "- RetrieveScore agent: tasked to retrieve the score of a sport event\n",
    "\n",
    "Both agents use the provided plug-ins to solve the provided task.\n"
   ]
  },
  {
   "cell_type": "code",
   "execution_count": null,
   "metadata": {
    "dotnet_interactive": {
     "language": "csharp"
    },
    "polyglot_notebook": {
     "kernelName": "csharp"
    }
   },
   "outputs": [
    {
     "name": "stdout",
     "output_type": "stream",
     "text": [
      "retrieveWinner Agent created...\n",
      "retrieveScore Agent created...\n"
     ]
    }
   ],
   "source": [
    "#pragma warning disable SKEXP0110, SKEXP0001\n",
    "\n",
    "//Define RetrieveWinner Agent\n",
    "IKernelBuilder retrieveWinnerKernelBuilder = Kernel.CreateBuilder();\n",
    "retrieveWinnerKernelBuilder.AddAzureOpenAIChatCompletion(\n",
    "    apiKey: oAiApiKey, \n",
    "    endpoint: oAiEndpoint, \n",
    "    deploymentName: chatCompletionDeploymentName\n",
    ");\n",
    "retrieveWinnerKernelBuilder.Plugins.AddFromType<RetrieveWinner>(\"RetrieveWinner\");\n",
    "Kernel retrieveWinnerKernel = retrieveWinnerKernelBuilder.Build();\n",
    "\n",
    "string agentName = \"RetrieveWinner\";\n",
    "string agentInstruction = \"You can retrieve the winner of a sport event\";\n",
    "\n",
    "ChatCompletionAgent retrieveWinnerAgent = new ChatCompletionAgent()\n",
    "{\n",
    "    Name = agentName,\n",
    "    Instructions = agentInstruction,\n",
    "    Kernel = retrieveWinnerKernel,\n",
    "    Arguments = new KernelArguments(\n",
    "        new OpenAIPromptExecutionSettings() { \n",
    "            FunctionChoiceBehavior = FunctionChoiceBehavior.Auto()\n",
    "        }\n",
    "    )\n",
    "};\n",
    "\n",
    "//Define retrieveScore Agent\n",
    "IKernelBuilder retrieveScoreKernelBuilder = Kernel.CreateBuilder();\n",
    "retrieveScoreKernelBuilder.AddAzureOpenAIChatCompletion(\n",
    "    apiKey: oAiApiKey, \n",
    "    endpoint: oAiEndpoint, \n",
    "    deploymentName: chatCompletionDeploymentName\n",
    ");\n",
    "retrieveScoreKernelBuilder.Plugins.AddFromType<RetrieveScore>(\"RetrieveScore\");\n",
    "Kernel retrieveScoreKernel = retrieveScoreKernelBuilder.Build();\n",
    "\n",
    "agentName = \"RetrieveScore\";\n",
    "agentInstruction = \"You can retrieve the final score of a sport event\";\n",
    "\n",
    "ChatCompletionAgent retrieveScoreAgent = new ChatCompletionAgent()\n",
    "{\n",
    "    Name = agentName,\n",
    "    Instructions = agentInstruction,\n",
    "    Kernel = retrieveScoreKernel,\n",
    "    Arguments = new KernelArguments(\n",
    "        new OpenAIPromptExecutionSettings() { \n",
    "            FunctionChoiceBehavior = FunctionChoiceBehavior.Auto()\n",
    "        }\n",
    "    )\n",
    "};\n",
    "\n",
    "Console.WriteLine($\"retrieveWinner Agent created...\");\n",
    "Console.WriteLine($\"retrieveScore Agent created...\");"
   ]
  },
  {
   "cell_type": "markdown",
   "metadata": {},
   "source": [
    "## Step 4: Create Group Chat\n",
    "\n",
    "An group chat is created with a custom termination condition. The agent group chat should terminate when there's a winning team and a score provided."
   ]
  },
  {
   "cell_type": "code",
   "execution_count": null,
   "metadata": {
    "dotnet_interactive": {
     "language": "csharp"
    },
    "polyglot_notebook": {
     "kernelName": "csharp"
    }
   },
   "outputs": [
    {
     "name": "stdout",
     "output_type": "stream",
     "text": [
      "AgentGroupChat with custom termination criteria created...\r\n"
     ]
    }
   ],
   "source": [
    "#pragma warning disable SKEXP0110, SKEXP0001\n",
    "\n",
    "KernelFunction terminationFunction = AgentGroupChat.CreatePromptFunctionForStrategy(\n",
    "    $$$\"\"\" \n",
    "        Determine if there's a sport event and a score.\n",
    "        Be precise. There needs to be a sport event and a score. \n",
    "        If there's no sport event or no score or both, respond with a single word: no\n",
    "        If so, respond with a single word: yes\n",
    "\n",
    "        History:\n",
    "        {{$history}}\n",
    "    \"\"\",\n",
    "    safeParameterNames: \"history\"\n",
    ");\n",
    "KernelFunctionTerminationStrategy kernelFunctionTerminationStrategy = \n",
    "    new KernelFunctionTerminationStrategy(terminationFunction, retrieveScoreKernel){\n",
    "        ResultParser = (result) => result.GetValue<string>()?.Contains(\"yes\", StringComparison.OrdinalIgnoreCase) ?? false,\n",
    "        HistoryVariableName = \"history\",\n",
    "        MaximumIterations = 10\n",
    "\n",
    "    };\n",
    "\n",
    "AgentGroupChat agentGroupChat = new AgentGroupChat(retrieveWinnerAgent, retrieveScoreAgent);\n",
    "agentGroupChat.ExecutionSettings = new AgentGroupChatSettings(){\n",
    "    TerminationStrategy = kernelFunctionTerminationStrategy \n",
    "};\n",
    "\n",
    "Console.WriteLine($\"AgentGroupChat with custom termination criteria created...\");"
   ]
  },
  {
   "cell_type": "markdown",
   "metadata": {},
   "source": [
    "## Step 5: Execute Group Chat\n",
    "\n",
    "The group chat with the two defined agents will be executed."
   ]
  },
  {
   "cell_type": "code",
   "execution_count": null,
   "metadata": {
    "dotnet_interactive": {
     "language": "csharp"
    },
    "polyglot_notebook": {
     "kernelName": "csharp"
    }
   },
   "outputs": [
    {
     "name": "stdout",
     "output_type": "stream",
     "text": [
      "The Kansas City Chiefs won the Super Bowl in 2024. Unfortunately, the score is not available.\n",
      "The Kansas City Chiefs won the Super Bowl 2024 with a score of 25-22.\n"
     ]
    }
   ],
   "source": [
    "#pragma warning disable SKEXP0110\n",
    "\n",
    "string prompt = \"Who won the Super Bowl 2024?. Return name of the winning team and the score.\";\n",
    "\n",
    "agentGroupChat.AddChatMessage(new ChatMessageContent(AuthorRole.User, prompt));\n",
    "\n",
    "string response = \"\";\n",
    "await foreach (ChatMessageContent chatMessageContent in agentGroupChat.InvokeAsync())\n",
    "{\n",
    "    response = String.Concat(response, chatMessageContent.Content, \"\\n\");\n",
    "    Console.WriteLine(chatMessageContent.Content);\n",
    "}"
   ]
  }
 ],
 "metadata": {
  "kernelspec": {
   "display_name": ".NET (C#)",
   "language": "C#",
   "name": ".net-csharp"
  },
  "polyglot_notebook": {
   "kernelInfo": {
    "defaultKernelName": "csharp",
    "items": [
     {
      "aliases": [],
      "languageName": "csharp",
      "name": "csharp"
     }
    ]
   }
  }
 },
 "nbformat": 4,
 "nbformat_minor": 2
}
