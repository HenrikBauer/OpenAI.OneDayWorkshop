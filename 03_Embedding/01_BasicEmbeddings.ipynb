{
 "cells": [
  {
   "cell_type": "markdown",
   "metadata": {},
   "source": [
    "# 03 Embeddings | 01 Basic Embeddings\n",
    "\n",
    "## Azure Environment\n",
    "\n",
    "To execute the sample code Azure service specific information like endpoint, api key etc. is needed ([Details and instructions can be found here](../01_CreateEnvironment/01_Environment.ipynb))\n",
    "\n",
    "## Step 1: Create OpenAIClient\n",
    "\n",
    "The OpenAIClient from Azure.AI.OpenAI is a .NET client library that acts as the centralized point for all .NET functionality that want to interact with a deployed Azure OpenAI Large Language Model. It provides methods to access the OpenAI REST APIs for various tasks such as text completion, text embedding, and chat completion, etc.. It also allows developers to specify the model, engine, and options for each request, such as temperature, frequency penalty, presence penalty, and stop sequences. \n",
    "\n",
    "The OpenAIClient can connect to any Azure OpenAI resource or to the non-Azure OpenAI inference endpoint, making it a versatile and powerful tool for .NET development with OpenAI."
   ]
  },
  {
   "cell_type": "code",
   "execution_count": 1,
   "metadata": {
    "dotnet_interactive": {
     "language": "csharp"
    },
    "polyglot_notebook": {
     "kernelName": "csharp"
    }
   },
   "outputs": [
    {
     "data": {
      "text/html": [
       "<div><div></div><div></div><div><strong>Installed Packages</strong><ul><li><span>Azure.AI.OpenAI, 1.0.0-beta.16</span></li><li><span>DotNetEnv, 2.5.0</span></li></ul></div></div>"
      ]
     },
     "metadata": {},
     "output_type": "display_data"
    },
    {
     "name": "stdout",
     "output_type": "stream",
     "text": [
      "OpenAI Client created...\r\n"
     ]
    }
   ],
   "source": [
    "#r \"nuget: Azure.AI.OpenAI, 1.0.0-beta.16\"\n",
    "#r \"nuget: DotNetEnv, 2.5.0\"\n",
    "\n",
    "using Azure; \n",
    "using Azure.AI.OpenAI;\n",
    "using DotNetEnv;\n",
    "using System.IO;\n",
    "\n",
    "//configuration file is created during environment creation\n",
    "static string _configurationFile = @\"../Configuration/application.env\";\n",
    "Env.Load(_configurationFile);\n",
    "\n",
    "string oAiApiKey = Environment.GetEnvironmentVariable(\"WS_AOAI_APIKEY\") ?? \"WS_AOAI_APIKEY not found\";\n",
    "string oAiEndpoint = Environment.GetEnvironmentVariable(\"WS_AOAI_ENDPOINT\") ?? \"WS_AOAI_ENDPOINT not found\";\n",
    "string embeddingDeploymentName = Environment.GetEnvironmentVariable(\"WS_EMBEDDING_DEPLOYMENTNAME\") ?? \"WS_EMBEDDING_DEPLOYMENTNAME not found\";\n",
    "\n",
    "string assetsFolder = Path.Combine(Directory.GetCurrentDirectory(), \"..\", \"assets\");\n",
    "\n",
    "AzureKeyCredential azureKeyCredential = new AzureKeyCredential(oAiApiKey);\n",
    "OpenAIClient openAIClient = new OpenAIClient(new Uri(oAiEndpoint), azureKeyCredential);\n",
    "Console.WriteLine($\"OpenAI Client created...\");\n"
   ]
  },
  {
   "cell_type": "markdown",
   "metadata": {},
   "source": [
    "## Step 2: Create Embeddings\n",
    "\n",
    "The following sample creates a vector representation (embedding) from input text which should be stored in a data base and a query to perform a semantic search.\n",
    "The sample uses the Azure OpenAI SDK.\n",
    "\n",
    "To calculate the embeddings/vector you have to call the method `GetEmbeddingsAsync()` on the instance of `OpenAIClient`. The method provides multiple return values where the embedding can be found in `modelResponse.Value.Data[0]`.\n",
    "\n",
    "In the example embeddings two embeddings/vectors are calculated using the deployed OpenAI model:\n",
    "- The file `Path.Combine(assetsFolder, \"Embedding\", \"TheUntouchableAdolescents_Part01.txt\");` is part of a free e-book downloaded from the [Project Gutenberg](www.gutenberg.com)\n",
    "- A hard coded string `\"Did Shreve gave a bitter laugh, thin and short?\"` will be also transformed into an embedding/vector representation. The phrase is used at the end of the text file.\n",
    "\n",
    "Both embeddings will be used in further samples to perform a vector based query."
   ]
  },
  {
   "cell_type": "code",
   "execution_count": 2,
   "metadata": {
    "dotnet_interactive": {
     "language": "csharp"
    },
    "polyglot_notebook": {
     "kernelName": "csharp"
    }
   },
   "outputs": [
    {
     "name": "stdout",
     "output_type": "stream",
     "text": [
      "Vector from c:\\Sourcen\\GitHubProjects\\OpenAI.Workshop\\03_Embedding\\..\\assets\\Embedding\\TheUntouchableAdolescents_Part01.txt created...\n",
      "Vector from 'Did Shreve gave a bitter laugh, thin and short?' created... Vector Length: 1536\n"
     ]
    }
   ],
   "source": [
    "\n",
    "string documentationPage = Path.Combine(assetsFolder,\"Embedding\", \"TheUntouchableAdolescents_Part01.txt\");\n",
    "\n",
    "string textToBeVecorized = File.ReadAllText(documentationPage);\n",
    "\n",
    "// Vectorize input text from file\n",
    "EmbeddingsOptions embeddingsOptions = new EmbeddingsOptions(embeddingDeploymentName, new List<string> { textToBeVecorized });\n",
    "var modelResponse = await openAIClient.GetEmbeddingsAsync( embeddingsOptions);\n",
    "float[] vectorDocumentation = modelResponse.Value.Data[0].Embedding.ToArray();\n",
    "\n",
    "Console.WriteLine($\"Vector from {documentationPage} created... Vector Length: {vectorDocumentation.Length}\");\n",
    "\n",
    "// Vectorize question\n",
    "string question = \"Did Shreve gave a bitter laugh, thin and short?\";\n",
    "embeddingsOptions = new EmbeddingsOptions(embeddingDeploymentName, new List<string> { question });\n",
    "modelResponse = await openAIClient.GetEmbeddingsAsync(embeddingsOptions);\n",
    "float[] vectorQuery = modelResponse.Value.Data[0].Embedding.ToArray();\n",
    "\n",
    "Console.WriteLine($\"Vector from '{question}' created... Vector Length: {vectorQuery.Length}\");\n"
   ]
  },
  {
   "cell_type": "markdown",
   "metadata": {},
   "source": [
    "## Step 3: Vector storage\n",
    "\n",
    "Both created vectors are stored in a txt file for further analyze and/or usage."
   ]
  },
  {
   "cell_type": "code",
   "execution_count": 5,
   "metadata": {
    "dotnet_interactive": {
     "language": "csharp"
    },
    "polyglot_notebook": {
     "kernelName": "csharp"
    }
   },
   "outputs": [
    {
     "name": "stdout",
     "output_type": "stream",
     "text": [
      "Vectors stored in ../Assets/Embedding/DataVector.txt and ../Assets/Embedding/QueryVector.txt...\r\n"
     ]
    }
   ],
   "source": [
    "//Store both Vectors\n",
    "string dataVectorFileName = \"../Assets/Embedding/DataVector.txt\";\n",
    "string queryVectorFileName = \"../Assets/Embedding/QueryVector.txt\";\n",
    "\n",
    "await File.WriteAllLinesAsync(dataVectorFileName, vectorDocumentation.Select(x => x.ToString()));\n",
    "await File.WriteAllLinesAsync(queryVectorFileName, vectorQuery.Select(x => x.ToString()));\n",
    "\n",
    "Console.WriteLine($\"Vectors stored in {dataVectorFileName} and {queryVectorFileName}...\");"
   ]
  }
 ],
 "metadata": {
  "kernelspec": {
   "display_name": ".NET (C#)",
   "language": "C#",
   "name": ".net-csharp"
  },
  "language_info": {
   "name": "polyglot-notebook"
  },
  "polyglot_notebook": {
   "kernelInfo": {
    "defaultKernelName": "csharp",
    "items": [
     {
      "aliases": [],
      "languageName": "csharp",
      "name": "csharp"
     }
    ]
   }
  }
 },
 "nbformat": 4,
 "nbformat_minor": 2
}
